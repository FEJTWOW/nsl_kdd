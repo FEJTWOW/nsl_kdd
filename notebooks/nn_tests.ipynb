{
 "cells": [
  {
   "cell_type": "code",
   "execution_count": 1,
   "id": "f2f66c5f-475a-442f-96a9-bed6ae3c3571",
   "metadata": {},
   "outputs": [],
   "source": [
    "# Set project directory\n",
    "import os\n",
    "import sys\n",
    "\n",
    "\n",
    "def project_dir():\n",
    "    notebook_path = %pwd\n",
    "    repo_name = \"nsl_kdd\"\n",
    "    repo_folder = notebook_path.split(repo_name)[0]\n",
    "    return os.path.join(repo_folder, repo_name)\n",
    "\n",
    "\n",
    "pwd = os.getenv(\"PWD\", project_dir())\n",
    "os.environ[\"PWD\"] = pwd\n",
    "sys.path.append(pwd)"
   ]
  },
  {
   "cell_type": "code",
   "execution_count": 2,
   "id": "3d91cbb7-c025-4488-85f8-a264bb22283d",
   "metadata": {},
   "outputs": [],
   "source": [
    "import pandas as pd\n",
    "from matplotlib import pyplot as plt\n",
    "import numpy as np\n",
    "\n",
    "import tensorflow as tf\n",
    "from tensorflow.keras import layers as k_layers\n",
    "from tensorflow.keras import optimizers as k_optimizers\n",
    "from tensorflow.keras import callbacks as k_callbacks\n",
    "\n",
    "from data_utils import load_train_test_data"
   ]
  },
  {
   "cell_type": "markdown",
   "id": "5b7ba81c-a7fc-4621-afc5-4578bc27b06b",
   "metadata": {},
   "source": [
    "# Load data"
   ]
  },
  {
   "cell_type": "code",
   "execution_count": 3,
   "id": "211eeeae-13ea-4c26-a27f-4693143a6dde",
   "metadata": {},
   "outputs": [],
   "source": [
    "(X_train, X_test, Y_train, Y_test), attack_labels = load_train_test_data(pwd=pwd)"
   ]
  },
  {
   "cell_type": "code",
   "execution_count": 4,
   "id": "93fcbc17-33e7-4dda-81c9-e19ae7a26af4",
   "metadata": {},
   "outputs": [
    {
     "data": {
      "text/plain": [
       "((125973, 122), (125973, 5), (22544, 122), (22544, 5))"
      ]
     },
     "execution_count": 4,
     "metadata": {},
     "output_type": "execute_result"
    }
   ],
   "source": [
    "X_train.shape, Y_train.shape, X_test.shape, Y_test.shape"
   ]
  },
  {
   "cell_type": "code",
   "execution_count": 5,
   "id": "ea22d594-099f-46e5-be5b-0c1b9c00154b",
   "metadata": {},
   "outputs": [
    {
     "data": {
      "text/plain": [
       "array(['DoS', 'Probe', 'R2L', 'U2R', 'normal'], dtype='<U6')"
      ]
     },
     "execution_count": 5,
     "metadata": {},
     "output_type": "execute_result"
    }
   ],
   "source": [
    "attack_labels"
   ]
  },
  {
   "cell_type": "markdown",
   "id": "ab8c7f32-a461-4e9e-9980-65af6196f20a",
   "metadata": {},
   "source": [
    "# Utils"
   ]
  },
  {
   "cell_type": "code",
   "execution_count": 6,
   "id": "de11af99-7e38-4f12-8b46-0a3e1eac10db",
   "metadata": {},
   "outputs": [],
   "source": [
    "def fit_model(create_model, X_train, Y_train, X_test, Y_test, batch_size=512, n_epochs=100, lr_start=0.001, lr_patience=None):\n",
    "    model = create_model(lr_start)\n",
    "    \n",
    "    callbacks = []\n",
    "    if lr_patience is not None:\n",
    "        callbacks.append(k_callbacks.ReduceLROnPlateau(factor=0.5, patience=lr_patience))\n",
    "        \n",
    "    history = model.fit(X_train, Y_train, batch_size=batch_size, epochs=n_epochs, validation_data=(X_test, Y_test), callbacks=callbacks).history\n",
    "    \n",
    "    return history, model\n",
    "\n",
    "def plot_history(history, title, ymax=100):\n",
    "    plt.figure(figsize=(20, 7))\n",
    "    \n",
    "    X = np.arange(1, len(history['loss']) + 1)\n",
    "    \n",
    "    for i, metric in enumerate(['loss', 'acc']):\n",
    "        plt.subplot(1, 2, i + 1)\n",
    "        plt.plot(X, history[metric], label='train')\n",
    "        plt.plot(X, history[f'val_{metric}'], label='test')\n",
    "        if metric == 'acc':\n",
    "            plt.ylim(0, 1)\n",
    "        elif ymax is not None:\n",
    "            plt.ylim(0, ymax)\n",
    "        plt.title(f\"{metric} ({history[f'val_{metric}'][-1]:0.4f})\")\n",
    "        plt.grid()\n",
    "        plt.legend()\n",
    "        \n",
    "    plt.suptitle(title)\n",
    "    plt.show()"
   ]
  },
  {
   "cell_type": "markdown",
   "id": "28732731-f2dd-4752-8055-a49965750243",
   "metadata": {},
   "source": [
    "# Model v1"
   ]
  },
  {
   "cell_type": "code",
   "execution_count": 7,
   "id": "35aac3f1-623b-4fa8-8a5e-befa867a24d3",
   "metadata": {},
   "outputs": [],
   "source": [
    "def create_model_v1(lr=0.001):\n",
    "    model = tf.keras.Sequential([\n",
    "        k_layers.Input(122),\n",
    "        k_layers.Dense(5, activation='softmax')\n",
    "    ])\n",
    "    \n",
    "    model.compile(\n",
    "        k_optimizers.Adam(learning_rate=lr), loss='categorical_crossentropy', metrics=['acc']\n",
    "    )\n",
    "    \n",
    "    return model\n",
    "\n",
    "# create_model_v1().summary()"
   ]
  },
  {
   "cell_type": "code",
   "execution_count": 8,
   "id": "6c99f7f4-bc20-44f1-9f69-d69985e6346a",
   "metadata": {
    "scrolled": true,
    "tags": []
   },
   "outputs": [
    {
     "name": "stdout",
     "output_type": "stream",
     "text": [
      "Epoch 1/30\n",
      "247/247 [==============================] - 1s 3ms/step - loss: 0.7506 - acc: 0.8297 - val_loss: 0.8733 - val_acc: 0.7445 - lr: 0.0010\n",
      "Epoch 2/30\n",
      "247/247 [==============================] - 1s 3ms/step - loss: 0.2232 - acc: 0.9616 - val_loss: 0.8640 - val_acc: 0.7294 - lr: 0.0010\n",
      "Epoch 3/30\n",
      "247/247 [==============================] - 1s 3ms/step - loss: 0.1569 - acc: 0.9668 - val_loss: 0.8798 - val_acc: 0.7355 - lr: 0.0010\n",
      "Epoch 4/30\n",
      "247/247 [==============================] - 1s 3ms/step - loss: 0.1308 - acc: 0.9683 - val_loss: 0.8989 - val_acc: 0.7496 - lr: 0.0010\n",
      "Epoch 5/30\n",
      "247/247 [==============================] - 1s 3ms/step - loss: 0.1160 - acc: 0.9694 - val_loss: 0.9203 - val_acc: 0.7603 - lr: 0.0010\n",
      "Epoch 6/30\n",
      "247/247 [==============================] - 1s 3ms/step - loss: 0.1058 - acc: 0.9714 - val_loss: 0.9425 - val_acc: 0.7657 - lr: 0.0010\n",
      "Epoch 7/30\n",
      "247/247 [==============================] - 1s 3ms/step - loss: 0.0981 - acc: 0.9716 - val_loss: 0.9685 - val_acc: 0.7658 - lr: 0.0010\n",
      "Epoch 8/30\n",
      "247/247 [==============================] - 1s 3ms/step - loss: 0.0921 - acc: 0.9729 - val_loss: 0.9898 - val_acc: 0.7659 - lr: 0.0010\n",
      "Epoch 9/30\n",
      "247/247 [==============================] - 1s 3ms/step - loss: 0.0870 - acc: 0.9725 - val_loss: 1.0200 - val_acc: 0.7759 - lr: 0.0010\n",
      "Epoch 10/30\n",
      "247/247 [==============================] - 1s 3ms/step - loss: 0.0827 - acc: 0.9733 - val_loss: 1.0506 - val_acc: 0.7779 - lr: 0.0010\n",
      "Epoch 11/30\n",
      "247/247 [==============================] - 1s 3ms/step - loss: 0.0790 - acc: 0.9738 - val_loss: 1.0747 - val_acc: 0.7779 - lr: 0.0010\n",
      "Epoch 12/30\n",
      "247/247 [==============================] - 1s 3ms/step - loss: 0.0759 - acc: 0.9747 - val_loss: 1.1031 - val_acc: 0.7772 - lr: 0.0010\n",
      "Epoch 13/30\n",
      "247/247 [==============================] - 1s 3ms/step - loss: 0.0735 - acc: 0.9750 - val_loss: 1.1186 - val_acc: 0.7772 - lr: 5.0000e-04\n",
      "Epoch 14/30\n",
      "247/247 [==============================] - 1s 3ms/step - loss: 0.0721 - acc: 0.9759 - val_loss: 1.1342 - val_acc: 0.7772 - lr: 5.0000e-04\n",
      "Epoch 15/30\n",
      "247/247 [==============================] - 1s 3ms/step - loss: 0.0708 - acc: 0.9757 - val_loss: 1.1407 - val_acc: 0.7774 - lr: 5.0000e-04\n",
      "Epoch 16/30\n",
      "247/247 [==============================] - 1s 3ms/step - loss: 0.0696 - acc: 0.9767 - val_loss: 1.1624 - val_acc: 0.7772 - lr: 5.0000e-04\n",
      "Epoch 17/30\n",
      "247/247 [==============================] - 1s 3ms/step - loss: 0.0684 - acc: 0.9768 - val_loss: 1.1696 - val_acc: 0.7773 - lr: 5.0000e-04\n",
      "Epoch 18/30\n",
      "247/247 [==============================] - 1s 3ms/step - loss: 0.0673 - acc: 0.9771 - val_loss: 1.1909 - val_acc: 0.7776 - lr: 5.0000e-04\n",
      "Epoch 19/30\n",
      "247/247 [==============================] - 1s 3ms/step - loss: 0.0662 - acc: 0.9775 - val_loss: 1.2008 - val_acc: 0.7778 - lr: 5.0000e-04\n",
      "Epoch 20/30\n",
      "247/247 [==============================] - 1s 3ms/step - loss: 0.0652 - acc: 0.9773 - val_loss: 1.2126 - val_acc: 0.7778 - lr: 5.0000e-04\n",
      "Epoch 21/30\n",
      "247/247 [==============================] - 1s 3ms/step - loss: 0.0642 - acc: 0.9778 - val_loss: 1.2263 - val_acc: 0.7781 - lr: 5.0000e-04\n",
      "Epoch 22/30\n",
      "247/247 [==============================] - 1s 3ms/step - loss: 0.0633 - acc: 0.9780 - val_loss: 1.2358 - val_acc: 0.7780 - lr: 5.0000e-04\n",
      "Epoch 23/30\n",
      "247/247 [==============================] - 1s 3ms/step - loss: 0.0625 - acc: 0.9788 - val_loss: 1.2479 - val_acc: 0.7780 - lr: 2.5000e-04\n",
      "Epoch 24/30\n",
      "247/247 [==============================] - 1s 3ms/step - loss: 0.0621 - acc: 0.9786 - val_loss: 1.2522 - val_acc: 0.7780 - lr: 2.5000e-04\n",
      "Epoch 25/30\n",
      "247/247 [==============================] - 1s 3ms/step - loss: 0.0617 - acc: 0.9791 - val_loss: 1.2591 - val_acc: 0.7779 - lr: 2.5000e-04\n",
      "Epoch 26/30\n",
      "247/247 [==============================] - 1s 3ms/step - loss: 0.0613 - acc: 0.9790 - val_loss: 1.2668 - val_acc: 0.7783 - lr: 2.5000e-04\n",
      "Epoch 27/30\n",
      "247/247 [==============================] - 1s 3ms/step - loss: 0.0609 - acc: 0.9789 - val_loss: 1.2689 - val_acc: 0.7785 - lr: 2.5000e-04\n",
      "Epoch 28/30\n",
      "247/247 [==============================] - 1s 3ms/step - loss: 0.0605 - acc: 0.9795 - val_loss: 1.2782 - val_acc: 0.7783 - lr: 2.5000e-04\n",
      "Epoch 29/30\n",
      "247/247 [==============================] - 1s 3ms/step - loss: 0.0601 - acc: 0.9790 - val_loss: 1.2821 - val_acc: 0.7784 - lr: 2.5000e-04\n",
      "Epoch 30/30\n",
      "247/247 [==============================] - 1s 3ms/step - loss: 0.0597 - acc: 0.9795 - val_loss: 1.2894 - val_acc: 0.7785 - lr: 2.5000e-04\n"
     ]
    }
   ],
   "source": [
    "history_v1, model_v1 = fit_model(create_model_v1, X_train, Y_train, X_test, Y_test, n_epochs=30, lr_start=0.001, lr_patience=10)"
   ]
  },
  {
   "cell_type": "code",
   "execution_count": 9,
   "id": "7c0e6be0-4ec9-4534-b341-fb205b9bc174",
   "metadata": {},
   "outputs": [
    {
     "data": {
      "image/png": "[encoded data removed]",
      "text/plain": [
       "<Figure size 1440x504 with 2 Axes>"
      ]
     },
     "metadata": {
      "needs_background": "light"
     },
     "output_type": "display_data"
    }
   ],
   "source": [
    "plot_history(history_v1, 'Model v1', ymax=5)"
   ]
  },
  {
   "cell_type": "markdown",
   "id": "4f43af09-c96b-4cbd-b35c-85d93c39b6cc",
   "metadata": {},
   "source": [
    "# Model v2"
   ]
  },
  {
   "cell_type": "code",
   "execution_count": 10,
   "id": "1300862f-7462-4cf8-9bb4-77891e72c878",
   "metadata": {},
   "outputs": [],
   "source": [
    "def create_model_v2(lr=0.001):\n",
    "    model = tf.keras.Sequential([\n",
    "        k_layers.Input(122),\n",
    "        \n",
    "        k_layers.Dense(20),\n",
    "        k_layers.BatchNormalization(),\n",
    "        k_layers.ReLU(),\n",
    "        k_layers.Dropout(0.1),\n",
    "        \n",
    "        k_layers.Dense(10),\n",
    "        k_layers.BatchNormalization(),\n",
    "        k_layers.ReLU(),\n",
    "        k_layers.Dropout(0.1),\n",
    "        \n",
    "        k_layers.Dense(5, activation='softmax')\n",
    "    ])\n",
    "    \n",
    "    model.compile(\n",
    "        k_optimizers.Adam(learning_rate=lr), loss='categorical_crossentropy', metrics=['acc']\n",
    "    )\n",
    "    \n",
    "    return model\n",
    "\n",
    "# create_model_v2().summary()"
   ]
  },
  {
   "cell_type": "code",
   "execution_count": 11,
   "id": "f65cc5ca-63a4-4120-a5a9-2b13e6010181",
   "metadata": {
    "scrolled": true,
    "tags": []
   },
   "outputs": [
    {
     "name": "stdout",
     "output_type": "stream",
     "text": [
      "Epoch 1/30\n",
      "247/247 [==============================] - 2s 7ms/step - loss: 0.6610 - acc: 0.8360 - val_loss: 0.8342 - val_acc: 0.7137 - lr: 0.0010\n",
      "Epoch 2/30\n",
      "247/247 [==============================] - 2s 6ms/step - loss: 0.2016 - acc: 0.9632 - val_loss: 0.9115 - val_acc: 0.7235 - lr: 0.0010\n",
      "Epoch 3/30\n",
      "247/247 [==============================] - 1s 6ms/step - loss: 0.1269 - acc: 0.9707 - val_loss: 0.9843 - val_acc: 0.7614 - lr: 0.0010\n",
      "Epoch 4/30\n",
      "247/247 [==============================] - 2s 6ms/step - loss: 0.0923 - acc: 0.9760 - val_loss: 1.0597 - val_acc: 0.7598 - lr: 0.0010\n",
      "Epoch 5/30\n",
      "247/247 [==============================] - 1s 6ms/step - loss: 0.0740 - acc: 0.9795 - val_loss: 1.1367 - val_acc: 0.7618 - lr: 0.0010\n",
      "Epoch 6/30\n",
      "247/247 [==============================] - 2s 6ms/step - loss: 0.0649 - acc: 0.9813 - val_loss: 1.1627 - val_acc: 0.7597 - lr: 0.0010\n",
      "Epoch 7/30\n",
      "247/247 [==============================] - 1s 6ms/step - loss: 0.0572 - acc: 0.9825 - val_loss: 1.2094 - val_acc: 0.7642 - lr: 0.0010\n",
      "Epoch 8/30\n",
      "247/247 [==============================] - 1s 6ms/step - loss: 0.0533 - acc: 0.9840 - val_loss: 1.2470 - val_acc: 0.7678 - lr: 0.0010\n",
      "Epoch 9/30\n",
      "247/247 [==============================] - 2s 6ms/step - loss: 0.0496 - acc: 0.9855 - val_loss: 1.2863 - val_acc: 0.7669 - lr: 0.0010\n",
      "Epoch 10/30\n",
      "247/247 [==============================] - 1s 6ms/step - loss: 0.0467 - acc: 0.9862 - val_loss: 1.3062 - val_acc: 0.7703 - lr: 0.0010\n",
      "Epoch 11/30\n",
      "247/247 [==============================] - 1s 6ms/step - loss: 0.0440 - acc: 0.9872 - val_loss: 1.3104 - val_acc: 0.7731 - lr: 0.0010\n",
      "Epoch 12/30\n",
      "247/247 [==============================] - 2s 6ms/step - loss: 0.0417 - acc: 0.9877 - val_loss: 1.3314 - val_acc: 0.7728 - lr: 5.0000e-04\n",
      "Epoch 13/30\n",
      "247/247 [==============================] - 2s 6ms/step - loss: 0.0402 - acc: 0.9881 - val_loss: 1.3496 - val_acc: 0.7725 - lr: 5.0000e-04\n",
      "Epoch 14/30\n",
      "247/247 [==============================] - 1s 6ms/step - loss: 0.0391 - acc: 0.9886 - val_loss: 1.3288 - val_acc: 0.7729 - lr: 5.0000e-04\n",
      "Epoch 15/30\n",
      "247/247 [==============================] - 2s 7ms/step - loss: 0.0380 - acc: 0.9889 - val_loss: 1.3462 - val_acc: 0.7747 - lr: 5.0000e-04\n",
      "Epoch 16/30\n",
      "247/247 [==============================] - 2s 7ms/step - loss: 0.0367 - acc: 0.9888 - val_loss: 1.3609 - val_acc: 0.7742 - lr: 5.0000e-04\n",
      "Epoch 17/30\n",
      "247/247 [==============================] - 2s 6ms/step - loss: 0.0367 - acc: 0.9894 - val_loss: 1.3610 - val_acc: 0.7835 - lr: 5.0000e-04\n",
      "Epoch 18/30\n",
      "247/247 [==============================] - 2s 6ms/step - loss: 0.0360 - acc: 0.9898 - val_loss: 1.3573 - val_acc: 0.7829 - lr: 5.0000e-04\n",
      "Epoch 19/30\n",
      "247/247 [==============================] - 2s 7ms/step - loss: 0.0356 - acc: 0.9894 - val_loss: 1.3795 - val_acc: 0.7838 - lr: 5.0000e-04\n",
      "Epoch 20/30\n",
      "247/247 [==============================] - 2s 6ms/step - loss: 0.0347 - acc: 0.9896 - val_loss: 1.4006 - val_acc: 0.7850 - lr: 5.0000e-04\n",
      "Epoch 21/30\n",
      "247/247 [==============================] - 2s 6ms/step - loss: 0.0341 - acc: 0.9897 - val_loss: 1.4028 - val_acc: 0.7812 - lr: 5.0000e-04\n",
      "Epoch 22/30\n",
      "247/247 [==============================] - 2s 6ms/step - loss: 0.0329 - acc: 0.9899 - val_loss: 1.4250 - val_acc: 0.7813 - lr: 2.5000e-04\n",
      "Epoch 23/30\n",
      "247/247 [==============================] - 2s 7ms/step - loss: 0.0331 - acc: 0.9904 - val_loss: 1.4485 - val_acc: 0.7846 - lr: 2.5000e-04\n",
      "Epoch 24/30\n",
      "247/247 [==============================] - 2s 7ms/step - loss: 0.0322 - acc: 0.9904 - val_loss: 1.4360 - val_acc: 0.7858 - lr: 2.5000e-04\n",
      "Epoch 25/30\n",
      "247/247 [==============================] - 2s 7ms/step - loss: 0.0319 - acc: 0.9908 - val_loss: 1.4476 - val_acc: 0.7854 - lr: 2.5000e-04\n",
      "Epoch 26/30\n",
      "247/247 [==============================] - 2s 7ms/step - loss: 0.0312 - acc: 0.9906 - val_loss: 1.4621 - val_acc: 0.7852 - lr: 2.5000e-04\n",
      "Epoch 27/30\n",
      "247/247 [==============================] - 2s 7ms/step - loss: 0.0316 - acc: 0.9905 - val_loss: 1.4755 - val_acc: 0.7850 - lr: 2.5000e-04\n",
      "Epoch 28/30\n",
      "247/247 [==============================] - 2s 7ms/step - loss: 0.0312 - acc: 0.9905 - val_loss: 1.5038 - val_acc: 0.7846 - lr: 2.5000e-04\n",
      "Epoch 29/30\n",
      "247/247 [==============================] - 2s 7ms/step - loss: 0.0308 - acc: 0.9904 - val_loss: 1.5040 - val_acc: 0.7842 - lr: 2.5000e-04\n",
      "Epoch 30/30\n",
      "247/247 [==============================] - 2s 7ms/step - loss: 0.0308 - acc: 0.9907 - val_loss: 1.4989 - val_acc: 0.7844 - lr: 2.5000e-04\n"
     ]
    }
   ],
   "source": [
    "history_v2, model_v2 = fit_model(create_model_v2, X_train, Y_train, X_test, Y_test, n_epochs=30, lr_start=0.001, lr_patience=10)"
   ]
  },
  {
   "cell_type": "code",
   "execution_count": 12,
   "id": "2930d441-e961-466d-ad1e-f79a5a32ddba",
   "metadata": {},
   "outputs": [
    {
     "data": {
      "image/png": "[encoded data removed]",
      "text/plain": [
       "<Figure size 1440x504 with 2 Axes>"
      ]
     },
     "metadata": {
      "needs_background": "light"
     },
     "output_type": "display_data"
    }
   ],
   "source": [
    "plot_history(history_v2, 'Model v2', ymax=5)"
   ]
  },
  {
   "cell_type": "markdown",
   "id": "bf03626e-1d1d-4515-8858-ab5b8c8d25b9",
   "metadata": {},
   "source": [
    "# Model v3"
   ]
  },
  {
   "cell_type": "code",
   "execution_count": 13,
   "id": "a1bd7048-af19-4475-a54a-375dce137f58",
   "metadata": {},
   "outputs": [],
   "source": [
    "def create_model_v3(lr=0.001):\n",
    "    model = tf.keras.Sequential([\n",
    "        k_layers.Input(122),\n",
    "        \n",
    "        k_layers.Dense(40),\n",
    "        k_layers.BatchNormalization(),\n",
    "        k_layers.ReLU(),\n",
    "        k_layers.Dropout(0.1),\n",
    "        \n",
    "        k_layers.Dense(40),\n",
    "        k_layers.BatchNormalization(),\n",
    "        k_layers.ReLU(),\n",
    "        k_layers.Dropout(0.1),\n",
    "        \n",
    "        k_layers.Dense(20),\n",
    "        k_layers.BatchNormalization(),\n",
    "        k_layers.ReLU(),\n",
    "        k_layers.Dropout(0.1),\n",
    "        \n",
    "        k_layers.Dense(10),\n",
    "        k_layers.BatchNormalization(),\n",
    "        k_layers.ReLU(),\n",
    "        k_layers.Dropout(0.1),\n",
    "        \n",
    "        k_layers.Dense(5, activation='softmax')\n",
    "    ])\n",
    "    \n",
    "    model.compile(\n",
    "        k_optimizers.Adam(learning_rate=lr), loss='categorical_crossentropy', metrics=['acc']\n",
    "    )\n",
    "    \n",
    "    return model\n",
    "\n",
    "# create_model_v3().summary()"
   ]
  },
  {
   "cell_type": "code",
   "execution_count": 14,
   "id": "c35656bd-3ff1-4691-b8ee-a20cfec14e9a",
   "metadata": {
    "scrolled": true,
    "tags": []
   },
   "outputs": [
    {
     "name": "stdout",
     "output_type": "stream",
     "text": [
      "Epoch 1/30\n",
      "247/247 [==============================] - 3s 10ms/step - loss: 0.6496 - acc: 0.8458 - val_loss: 0.8953 - val_acc: 0.7280 - lr: 0.0010\n",
      "Epoch 2/30\n",
      "247/247 [==============================] - 2s 9ms/step - loss: 0.1604 - acc: 0.9707 - val_loss: 1.0130 - val_acc: 0.7457 - lr: 0.0010\n",
      "Epoch 3/30\n",
      "247/247 [==============================] - 2s 10ms/step - loss: 0.0953 - acc: 0.9779 - val_loss: 1.1150 - val_acc: 0.7571 - lr: 0.0010\n",
      "Epoch 4/30\n",
      "247/247 [==============================] - 2s 9ms/step - loss: 0.0694 - acc: 0.9823 - val_loss: 1.1997 - val_acc: 0.7650 - lr: 0.0010\n",
      "Epoch 5/30\n",
      "247/247 [==============================] - 2s 10ms/step - loss: 0.0579 - acc: 0.9835 - val_loss: 1.2377 - val_acc: 0.7706 - lr: 0.0010\n",
      "Epoch 6/30\n",
      "247/247 [==============================] - 2s 10ms/step - loss: 0.0512 - acc: 0.9847 - val_loss: 1.3167 - val_acc: 0.7713 - lr: 0.0010\n",
      "Epoch 7/30\n",
      "247/247 [==============================] - 2s 9ms/step - loss: 0.0463 - acc: 0.9860 - val_loss: 1.3383 - val_acc: 0.7800 - lr: 0.0010\n",
      "Epoch 8/30\n",
      "247/247 [==============================] - 3s 10ms/step - loss: 0.0430 - acc: 0.9874 - val_loss: 1.3767 - val_acc: 0.7815 - lr: 0.0010\n",
      "Epoch 9/30\n",
      "247/247 [==============================] - 2s 10ms/step - loss: 0.0394 - acc: 0.9886 - val_loss: 1.3666 - val_acc: 0.7812 - lr: 0.0010\n",
      "Epoch 10/30\n",
      "247/247 [==============================] - 2s 10ms/step - loss: 0.0375 - acc: 0.9893 - val_loss: 1.4630 - val_acc: 0.7797 - lr: 0.0010\n",
      "Epoch 11/30\n",
      "247/247 [==============================] - 2s 10ms/step - loss: 0.0346 - acc: 0.9902 - val_loss: 1.4007 - val_acc: 0.7943 - lr: 0.0010\n",
      "Epoch 12/30\n",
      "247/247 [==============================] - 2s 10ms/step - loss: 0.0328 - acc: 0.9908 - val_loss: 1.4601 - val_acc: 0.7815 - lr: 5.0000e-04\n",
      "Epoch 13/30\n",
      "247/247 [==============================] - 2s 9ms/step - loss: 0.0313 - acc: 0.9914 - val_loss: 1.4639 - val_acc: 0.7842 - lr: 5.0000e-04\n",
      "Epoch 14/30\n",
      "247/247 [==============================] - 2s 10ms/step - loss: 0.0309 - acc: 0.9912 - val_loss: 1.5040 - val_acc: 0.7824 - lr: 5.0000e-04\n",
      "Epoch 15/30\n",
      "247/247 [==============================] - 2s 10ms/step - loss: 0.0312 - acc: 0.9914 - val_loss: 1.5154 - val_acc: 0.7828 - lr: 5.0000e-04\n",
      "Epoch 16/30\n",
      "247/247 [==============================] - 2s 9ms/step - loss: 0.0298 - acc: 0.9915 - val_loss: 1.5395 - val_acc: 0.7847 - lr: 5.0000e-04\n",
      "Epoch 17/30\n",
      "247/247 [==============================] - 2s 9ms/step - loss: 0.0294 - acc: 0.9917 - val_loss: 1.5309 - val_acc: 0.7881 - lr: 5.0000e-04\n",
      "Epoch 18/30\n",
      "247/247 [==============================] - 2s 9ms/step - loss: 0.0282 - acc: 0.9920 - val_loss: 1.5358 - val_acc: 0.7940 - lr: 5.0000e-04\n",
      "Epoch 19/30\n",
      "247/247 [==============================] - 2s 10ms/step - loss: 0.0277 - acc: 0.9919 - val_loss: 1.5366 - val_acc: 0.8033 - lr: 5.0000e-04\n",
      "Epoch 20/30\n",
      "247/247 [==============================] - 3s 10ms/step - loss: 0.0280 - acc: 0.9917 - val_loss: 1.5603 - val_acc: 0.7972 - lr: 5.0000e-04\n",
      "Epoch 21/30\n",
      "247/247 [==============================] - 2s 10ms/step - loss: 0.0278 - acc: 0.9921 - val_loss: 1.5727 - val_acc: 0.7974 - lr: 5.0000e-04\n",
      "Epoch 22/30\n",
      "247/247 [==============================] - 2s 10ms/step - loss: 0.0261 - acc: 0.9924 - val_loss: 1.5857 - val_acc: 0.7935 - lr: 2.5000e-04\n",
      "Epoch 23/30\n",
      "247/247 [==============================] - 2s 10ms/step - loss: 0.0256 - acc: 0.9925 - val_loss: 1.5982 - val_acc: 0.7905 - lr: 2.5000e-04\n",
      "Epoch 24/30\n",
      "247/247 [==============================] - 2s 10ms/step - loss: 0.0249 - acc: 0.9926 - val_loss: 1.6008 - val_acc: 0.7945 - lr: 2.5000e-04\n",
      "Epoch 25/30\n",
      "247/247 [==============================] - 2s 9ms/step - loss: 0.0249 - acc: 0.9928 - val_loss: 1.5857 - val_acc: 0.7890 - lr: 2.5000e-04\n",
      "Epoch 26/30\n",
      "247/247 [==============================] - 2s 9ms/step - loss: 0.0248 - acc: 0.9928 - val_loss: 1.6020 - val_acc: 0.7879 - lr: 2.5000e-04\n",
      "Epoch 27/30\n",
      "247/247 [==============================] - 2s 10ms/step - loss: 0.0244 - acc: 0.9930 - val_loss: 1.5803 - val_acc: 0.7995 - lr: 2.5000e-04\n",
      "Epoch 28/30\n",
      "247/247 [==============================] - 2s 9ms/step - loss: 0.0249 - acc: 0.9926 - val_loss: 1.5792 - val_acc: 0.7973 - lr: 2.5000e-04\n",
      "Epoch 29/30\n",
      "247/247 [==============================] - 2s 10ms/step - loss: 0.0240 - acc: 0.9929 - val_loss: 1.6148 - val_acc: 0.7980 - lr: 2.5000e-04\n",
      "Epoch 30/30\n",
      "247/247 [==============================] - 2s 10ms/step - loss: 0.0238 - acc: 0.9931 - val_loss: 1.6457 - val_acc: 0.7966 - lr: 2.5000e-04\n"
     ]
    }
   ],
   "source": [
    "history_v3, model_v3 = fit_model(create_model_v3, X_train, Y_train, X_test, Y_test, n_epochs=30, lr_start=0.001, lr_patience=10)"
   ]
  },
  {
   "cell_type": "code",
   "execution_count": 15,
   "id": "9497b227-af6e-4a46-b8fe-0dd053f2201c",
   "metadata": {},
   "outputs": [
    {
     "data": {
      "image/png": "[encoded data removed]",
      "text/plain": [
       "<Figure size 1440x504 with 2 Axes>"
      ]
     },
     "metadata": {
      "needs_background": "light"
     },
     "output_type": "display_data"
    }
   ],
   "source": [
    "plot_history(history_v3, 'Model v3', ymax=5)"
   ]
  },
  {
   "cell_type": "code",
   "execution_count": null,
   "id": "0ae7d3e3-41a7-4f89-a4f0-88334a8f08fb",
   "metadata": {},
   "outputs": [],
   "source": []
  }
 ],
 "metadata": {
  "kernelspec": {
   "display_name": "Python 3 (ipykernel)",
   "language": "python",
   "name": "python3"
  },
  "language_info": {
   "codemirror_mode": {
    "name": "ipython",
    "version": 3
   },
   "file_extension": ".py",
   "mimetype": "text/x-python",
   "name": "python",
   "nbconvert_exporter": "python",
   "pygments_lexer": "ipython3",
   "version": "3.8.12"
  }
 },
 "nbformat": 4,
 "nbformat_minor": 5
}
