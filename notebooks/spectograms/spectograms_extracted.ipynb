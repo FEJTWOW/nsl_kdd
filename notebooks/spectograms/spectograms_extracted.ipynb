{
 "cells": [
  {
   "cell_type": "code",
   "execution_count": 1,
   "id": "c2e1f68b",
   "metadata": {},
   "outputs": [],
   "source": [
    "# Set project directory\n",
    "import os\n",
    "import sys\n",
    "\n",
    "\n",
    "def project_dir():\n",
    "    notebook_path = %pwd\n",
    "    repo_name = \"nsl_kdd\"\n",
    "    repo_folder = notebook_path.split(repo_name)[0]\n",
    "    return os.path.join(repo_folder, repo_name)\n",
    "\n",
    "\n",
    "pwd = os.getenv(\"PWD\", project_dir())\n",
    "os.environ[\"PWD\"] = pwd\n",
    "sys.path.append(pwd)"
   ]
  },
  {
   "cell_type": "code",
   "execution_count": 145,
   "id": "87980fdf",
   "metadata": {},
   "outputs": [],
   "source": [
    "import pandas as pd\n",
    "from matplotlib import pyplot as plt\n",
    "import numpy as np\n",
    "\n",
    "from sklearn.decomposition import PCA\n",
    "from sklearn.manifold import TSNE\n",
    "from sklearn.model_selection import train_test_split\n",
    "import tensorflow as tf\n",
    "from keras.models import Sequential\n",
    "from keras.layers.core import Dense\n",
    "from sklearn.metrics import plot_confusion_matrix\n",
    "import seaborn as sns\n",
    "from collections import Counter\n",
    "\n",
    "import time\n",
    "from data_utils import *\n",
    "import umap\n",
    "from sklearn.metrics import confusion_matrix\n",
    "\n",
    "\n",
    "from data_utils import load_train_test_data\n",
    "from src.feature_extraction import CategoricalExtractor\n",
    "\n",
    "import warnings\n",
    "warnings.simplefilter(\"ignore\", category=UserWarning)\n",
    "warnings.simplefilter(\"ignore\", category=FutureWarning)"
   ]
  },
  {
   "cell_type": "markdown",
   "id": "b7a798e3",
   "metadata": {},
   "source": [
    "# Utils"
   ]
  },
  {
   "cell_type": "code",
   "execution_count": 177,
   "id": "17415cd5",
   "metadata": {},
   "outputs": [],
   "source": [
    "def plot_history(network_history, title, ymax=None):\n",
    "    plt.figure()\n",
    "    plt.xlabel('Epochs')\n",
    "    plt.ylabel('Loss')\n",
    "    plt.plot(network_history.history['loss'])\n",
    "    plt.plot(network_history.history['val_loss'])\n",
    "    plt.legend(['Training', 'Validation'])\n",
    "\n",
    "    if ymax is not None:\n",
    "        plt.ylim(0, ymax)\n",
    "    \n",
    "    plt.figure()\n",
    "    plt.xlabel('Epochs')\n",
    "    plt.ylabel('Accuracy')\n",
    "    plt.plot(network_history.history['accuracy'])\n",
    "    plt.plot(network_history.history['val_accuracy'])\n",
    "    plt.legend(['Training', 'Validation'], loc='lower right')\n",
    "    plt.show()\n",
    "    \n",
    "def run_and_measure(fun, *args, **kwargs):\n",
    "    start = time.time()\n",
    "    retval = fun(*args, **kwargs)\n",
    "    end = time.time()\n",
    "    return retval, end - start\n",
    "    \n",
    "    \n",
    "def train_models(create_model, X_train, Y_train, X_val, Y_val, name, batch_size=8192, n_epochs=50, train=True, lr_start = 0.001, lr_patience = None, verbose = 0):\n",
    "    histories = []\n",
    "    models = []\n",
    "    \n",
    "    model = create_model(lr=lr_start)\n",
    "    \n",
    "    models.append(model)\n",
    "    \n",
    "    \n",
    "    \n",
    "    if train:\n",
    "        callbacks = []\n",
    "        if lr_patience is not None:\n",
    "            callbacks.append(tf.keras.callbacks.ReduceLROnPlateau(monitor=\"loss\", factor=0.5, patience=lr_patience, min_delta=0.00005))\n",
    "            callbacks.append(tf.keras.callbacks.EarlyStopping(monitor='val_loss', patience=lr_patience*3, restore_best_weights=True, verbose=1))\n",
    "            \n",
    "        history, t = run_and_measure(model.fit,\n",
    "                                    X_train, \n",
    "                                    Y_train, \n",
    "                                    batch_size = batch_size, \n",
    "                                    epochs = n_epochs, \n",
    "                                    verbose = verbose,\n",
    "                                    callbacks = callbacks,\n",
    "                                    validation_data=(X_val, Y_val))\n",
    "        histories.append(history)\n",
    "    \n",
    "        print(f\"{t:0.2f} s\")\n",
    "        \n",
    "    return histories, models\n",
    "\n",
    "def plot_histories(histories, title, ymax=1, print_mse=True):\n",
    "    plt.figure(figsize=(12, 8))\n",
    "    \n",
    "    for history in histories:\n",
    "        plot_history(history,\"aaa\", ymax)\n",
    "            "
   ]
  },
  {
   "cell_type": "markdown",
   "id": "9f3e67ae",
   "metadata": {},
   "source": [
    "# Preparing data"
   ]
  },
  {
   "cell_type": "code",
   "execution_count": 169,
   "id": "e5e59c0a",
   "metadata": {},
   "outputs": [],
   "source": [
    "(X_train, X_test, Y_train, Y_test), attack_classes = load_train_test_data(pwd=pwd, return_classes=True, standardize=True, norm=False, include_categorical=True)"
   ]
  },
  {
   "cell_type": "code",
   "execution_count": 170,
   "id": "36a3a3e0",
   "metadata": {},
   "outputs": [],
   "source": [
    "X = np.vstack([X_train, X_test])\n",
    "Y = np.vstack([Y_train, Y_test])\n",
    "nsl_lables = np.argmax(Y[:], axis=1)"
   ]
  },
  {
   "cell_type": "code",
   "execution_count": 171,
   "id": "b243223c",
   "metadata": {},
   "outputs": [],
   "source": [
    "extractor = CategoricalExtractor(8, root=pwd)"
   ]
  },
  {
   "cell_type": "code",
   "execution_count": 172,
   "id": "1e0d3d38",
   "metadata": {},
   "outputs": [
    {
     "name": "stderr",
     "output_type": "stream",
     "text": [
      "2022-06-05 19:33:55.474388: I tensorflow/core/grappler/optimizers/custom_graph_optimizer_registry.cc:113] Plugin optimizer for device_type GPU is enabled.\n"
     ]
    }
   ],
   "source": [
    "extracted_features = extractor.extract_features(X)"
   ]
  },
  {
   "cell_type": "code",
   "execution_count": 173,
   "id": "f1f46a20",
   "metadata": {},
   "outputs": [
    {
     "data": {
      "text/plain": [
       "(148517, 8)"
      ]
     },
     "execution_count": 173,
     "metadata": {},
     "output_type": "execute_result"
    }
   ],
   "source": [
    "extracted_features.shape"
   ]
  },
  {
   "cell_type": "code",
   "execution_count": 174,
   "id": "11b3ad67",
   "metadata": {},
   "outputs": [],
   "source": [
    "X_train, X_test, Y_train, Y_test = train_test_split(extracted_features, Y,\n",
    "                                                    test_size=0.2,\n",
    "                                                    random_state=42,\n",
    "                                                    stratify = Y)"
   ]
  },
  {
   "cell_type": "code",
   "execution_count": 175,
   "id": "4e98804f",
   "metadata": {},
   "outputs": [],
   "source": [
    "X_train, X_val, Y_train, Y_val = train_test_split(X_train, Y_train, \n",
    "                                                  test_size=0.2, \n",
    "                                                  random_state=42, \n",
    "                                                  stratify = Y_train)"
   ]
  },
  {
   "cell_type": "code",
   "execution_count": 42,
   "id": "3ffca586",
   "metadata": {},
   "outputs": [
    {
     "data": {
      "text/plain": [
       "array([10678,  2815,   776,    24, 15411])"
      ]
     },
     "execution_count": 42,
     "metadata": {},
     "output_type": "execute_result"
    }
   ],
   "source": [
    "np.sum(Y_test, axis=0)"
   ]
  },
  {
   "cell_type": "code",
   "execution_count": 43,
   "id": "8fc21d71",
   "metadata": {},
   "outputs": [
    {
     "data": {
      "text/plain": [
       "array(['DoS', 'Probe', 'R2L', 'U2R', 'normal'], dtype='<U6')"
      ]
     },
     "execution_count": 43,
     "metadata": {},
     "output_type": "execute_result"
    }
   ],
   "source": [
    "attack_classes"
   ]
  },
  {
   "cell_type": "code",
   "execution_count": 82,
   "id": "07a8f4ca",
   "metadata": {},
   "outputs": [],
   "source": [
    "def model_v1(lr = 0.001):\n",
    "    model = Sequential()\n",
    "    model.add(Dense(500, activation='relu', input_dim=8))\n",
    "    model.add(Dense(100, activation='relu'))\n",
    "    model.add(Dense(50, activation='relu'))\n",
    "    model.add(Dense(5, activation='softmax'))\n",
    "\n",
    "    # Compile the model\n",
    "    model.compile(optimizer='adam', \n",
    "                  loss='categorical_crossentropy', \n",
    "                  metrics=['accuracy'])\n",
    "    return model"
   ]
  },
  {
   "cell_type": "code",
   "execution_count": 83,
   "id": "3c6f6b08",
   "metadata": {},
   "outputs": [],
   "source": [
    "# history = model.fit(X_train, Y_train, batch_size=8000, epochs=500, verbose=1, validation_data=(X_val, Y_val))"
   ]
  },
  {
   "cell_type": "code",
   "execution_count": 90,
   "id": "749d7e63",
   "metadata": {
    "scrolled": false
   },
   "outputs": [
    {
     "name": "stdout",
     "output_type": "stream",
     "text": [
      "Epoch 1/500\n",
      " 4/12 [=========>....................] - ETA: 0s - loss: 1.5049 - accuracy: 0.6587"
     ]
    },
    {
     "name": "stderr",
     "output_type": "stream",
     "text": [
      "2022-06-05 18:39:17.301838: I tensorflow/core/grappler/optimizers/custom_graph_optimizer_registry.cc:113] Plugin optimizer for device_type GPU is enabled.\n"
     ]
    },
    {
     "name": "stdout",
     "output_type": "stream",
     "text": [
      "12/12 [==============================] - 1s 31ms/step - loss: 1.2573 - accuracy: 0.7804 - val_loss: 0.8309 - val_accuracy: 0.8564 - lr: 0.0010\n",
      "Epoch 2/500\n",
      " 9/12 [=====================>........] - ETA: 0s - loss: 0.6409 - accuracy: 0.8581"
     ]
    },
    {
     "name": "stderr",
     "output_type": "stream",
     "text": [
      "2022-06-05 18:39:17.700363: I tensorflow/core/grappler/optimizers/custom_graph_optimizer_registry.cc:113] Plugin optimizer for device_type GPU is enabled.\n"
     ]
    },
    {
     "name": "stdout",
     "output_type": "stream",
     "text": [
      "12/12 [==============================] - 0s 16ms/step - loss: 0.6059 - accuracy: 0.8575 - val_loss: 0.4464 - val_accuracy: 0.8513 - lr: 0.0010\n",
      "Epoch 3/500\n",
      "12/12 [==============================] - 0s 15ms/step - loss: 0.3987 - accuracy: 0.8787 - val_loss: 0.3443 - val_accuracy: 0.8943 - lr: 0.0010\n",
      "Epoch 4/500\n",
      "12/12 [==============================] - 0s 15ms/step - loss: 0.3190 - accuracy: 0.9022 - val_loss: 0.2905 - val_accuracy: 0.9091 - lr: 0.0010\n",
      "Epoch 5/500\n",
      "12/12 [==============================] - 0s 15ms/step - loss: 0.2756 - accuracy: 0.9178 - val_loss: 0.2579 - val_accuracy: 0.9299 - lr: 0.0010\n",
      "Epoch 6/500\n",
      "12/12 [==============================] - 0s 15ms/step - loss: 0.2447 - accuracy: 0.9334 - val_loss: 0.2342 - val_accuracy: 0.9352 - lr: 0.0010\n",
      "Epoch 7/500\n",
      "12/12 [==============================] - 0s 15ms/step - loss: 0.2219 - accuracy: 0.9369 - val_loss: 0.2136 - val_accuracy: 0.9372 - lr: 0.0010\n",
      "Epoch 8/500\n",
      "12/12 [==============================] - 0s 15ms/step - loss: 0.2049 - accuracy: 0.9392 - val_loss: 0.1981 - val_accuracy: 0.9454 - lr: 0.0010\n",
      "Epoch 9/500\n",
      "12/12 [==============================] - 0s 15ms/step - loss: 0.1905 - accuracy: 0.9433 - val_loss: 0.1854 - val_accuracy: 0.9446 - lr: 0.0010\n",
      "Epoch 10/500\n",
      "12/12 [==============================] - 0s 15ms/step - loss: 0.1778 - accuracy: 0.9465 - val_loss: 0.1751 - val_accuracy: 0.9455 - lr: 0.0010\n",
      "Epoch 11/500\n",
      "12/12 [==============================] - 0s 15ms/step - loss: 0.1679 - accuracy: 0.9492 - val_loss: 0.1658 - val_accuracy: 0.9492 - lr: 0.0010\n",
      "Epoch 12/500\n",
      "12/12 [==============================] - 0s 15ms/step - loss: 0.1584 - accuracy: 0.9507 - val_loss: 0.1568 - val_accuracy: 0.9511 - lr: 0.0010\n",
      "Epoch 13/500\n",
      "12/12 [==============================] - 0s 15ms/step - loss: 0.1503 - accuracy: 0.9524 - val_loss: 0.1491 - val_accuracy: 0.9530 - lr: 0.0010\n",
      "Epoch 14/500\n",
      "12/12 [==============================] - 0s 15ms/step - loss: 0.1433 - accuracy: 0.9532 - val_loss: 0.1443 - val_accuracy: 0.9536 - lr: 0.0010\n",
      "Epoch 15/500\n",
      "12/12 [==============================] - 0s 15ms/step - loss: 0.1361 - accuracy: 0.9555 - val_loss: 0.1365 - val_accuracy: 0.9572 - lr: 0.0010\n",
      "Epoch 16/500\n",
      "12/12 [==============================] - 0s 15ms/step - loss: 0.1289 - accuracy: 0.9573 - val_loss: 0.1303 - val_accuracy: 0.9591 - lr: 0.0010\n",
      "Epoch 17/500\n",
      "12/12 [==============================] - 0s 15ms/step - loss: 0.1221 - accuracy: 0.9586 - val_loss: 0.1249 - val_accuracy: 0.9604 - lr: 0.0010\n",
      "Epoch 18/500\n",
      "12/12 [==============================] - 0s 15ms/step - loss: 0.1166 - accuracy: 0.9611 - val_loss: 0.1197 - val_accuracy: 0.9607 - lr: 0.0010\n",
      "Epoch 19/500\n",
      "12/12 [==============================] - 0s 15ms/step - loss: 0.1109 - accuracy: 0.9628 - val_loss: 0.1156 - val_accuracy: 0.9631 - lr: 0.0010\n",
      "Epoch 20/500\n",
      "12/12 [==============================] - 0s 15ms/step - loss: 0.1063 - accuracy: 0.9663 - val_loss: 0.1113 - val_accuracy: 0.9706 - lr: 0.0010\n",
      "Epoch 21/500\n",
      "12/12 [==============================] - 0s 17ms/step - loss: 0.1011 - accuracy: 0.9688 - val_loss: 0.1062 - val_accuracy: 0.9690 - lr: 0.0010\n",
      "Epoch 22/500\n",
      "12/12 [==============================] - 0s 15ms/step - loss: 0.0981 - accuracy: 0.9701 - val_loss: 0.1052 - val_accuracy: 0.9663 - lr: 0.0010\n",
      "Epoch 23/500\n",
      "12/12 [==============================] - 0s 15ms/step - loss: 0.0945 - accuracy: 0.9712 - val_loss: 0.1010 - val_accuracy: 0.9725 - lr: 0.0010\n",
      "Epoch 24/500\n",
      "12/12 [==============================] - 0s 15ms/step - loss: 0.0904 - accuracy: 0.9726 - val_loss: 0.0975 - val_accuracy: 0.9722 - lr: 0.0010\n",
      "Epoch 25/500\n",
      "12/12 [==============================] - 0s 15ms/step - loss: 0.0870 - accuracy: 0.9734 - val_loss: 0.0939 - val_accuracy: 0.9706 - lr: 0.0010\n",
      "Epoch 26/500\n",
      "12/12 [==============================] - 0s 15ms/step - loss: 0.0842 - accuracy: 0.9739 - val_loss: 0.0924 - val_accuracy: 0.9718 - lr: 0.0010\n",
      "Epoch 27/500\n",
      "12/12 [==============================] - 0s 15ms/step - loss: 0.0813 - accuracy: 0.9753 - val_loss: 0.0877 - val_accuracy: 0.9758 - lr: 0.0010\n",
      "Epoch 28/500\n",
      "12/12 [==============================] - 0s 15ms/step - loss: 0.0789 - accuracy: 0.9768 - val_loss: 0.0866 - val_accuracy: 0.9753 - lr: 0.0010\n",
      "Epoch 29/500\n",
      "12/12 [==============================] - 0s 15ms/step - loss: 0.0762 - accuracy: 0.9777 - val_loss: 0.0852 - val_accuracy: 0.9759 - lr: 0.0010\n",
      "Epoch 30/500\n",
      "12/12 [==============================] - 0s 15ms/step - loss: 0.0752 - accuracy: 0.9778 - val_loss: 0.0842 - val_accuracy: 0.9779 - lr: 0.0010\n",
      "Epoch 31/500\n",
      "12/12 [==============================] - 0s 15ms/step - loss: 0.0731 - accuracy: 0.9781 - val_loss: 0.0818 - val_accuracy: 0.9777 - lr: 0.0010\n",
      "Epoch 32/500\n",
      "12/12 [==============================] - 0s 15ms/step - loss: 0.0714 - accuracy: 0.9785 - val_loss: 0.0801 - val_accuracy: 0.9780 - lr: 0.0010\n",
      "Epoch 33/500\n",
      "12/12 [==============================] - 0s 15ms/step - loss: 0.0694 - accuracy: 0.9792 - val_loss: 0.0790 - val_accuracy: 0.9777 - lr: 0.0010\n",
      "Epoch 34/500\n",
      "12/12 [==============================] - 0s 15ms/step - loss: 0.0679 - accuracy: 0.9798 - val_loss: 0.0780 - val_accuracy: 0.9774 - lr: 0.0010\n",
      "Epoch 35/500\n",
      "12/12 [==============================] - 0s 16ms/step - loss: 0.0673 - accuracy: 0.9799 - val_loss: 0.0782 - val_accuracy: 0.9768 - lr: 0.0010\n",
      "Epoch 36/500\n",
      "12/12 [==============================] - 0s 15ms/step - loss: 0.0657 - accuracy: 0.9803 - val_loss: 0.0770 - val_accuracy: 0.9795 - lr: 0.0010\n",
      "Epoch 37/500\n",
      "12/12 [==============================] - 0s 15ms/step - loss: 0.0660 - accuracy: 0.9801 - val_loss: 0.0753 - val_accuracy: 0.9804 - lr: 0.0010\n",
      "Epoch 38/500\n",
      "12/12 [==============================] - 0s 15ms/step - loss: 0.0641 - accuracy: 0.9817 - val_loss: 0.0737 - val_accuracy: 0.9811 - lr: 0.0010\n",
      "Epoch 39/500\n",
      "12/12 [==============================] - 0s 15ms/step - loss: 0.0619 - accuracy: 0.9823 - val_loss: 0.0733 - val_accuracy: 0.9800 - lr: 0.0010\n",
      "Epoch 40/500\n",
      "12/12 [==============================] - 0s 14ms/step - loss: 0.0617 - accuracy: 0.9822 - val_loss: 0.0758 - val_accuracy: 0.9792 - lr: 0.0010\n",
      "Epoch 41/500\n",
      "12/12 [==============================] - 0s 15ms/step - loss: 0.0626 - accuracy: 0.9821 - val_loss: 0.0720 - val_accuracy: 0.9785 - lr: 0.0010\n",
      "Epoch 42/500\n",
      "12/12 [==============================] - 0s 15ms/step - loss: 0.0605 - accuracy: 0.9822 - val_loss: 0.0731 - val_accuracy: 0.9782 - lr: 0.0010\n",
      "Epoch 43/500\n",
      "12/12 [==============================] - 0s 14ms/step - loss: 0.0606 - accuracy: 0.9819 - val_loss: 0.0726 - val_accuracy: 0.9803 - lr: 0.0010\n",
      "Epoch 44/500\n",
      "12/12 [==============================] - 0s 15ms/step - loss: 0.0591 - accuracy: 0.9827 - val_loss: 0.0706 - val_accuracy: 0.9803 - lr: 0.0010\n",
      "Epoch 45/500\n",
      "12/12 [==============================] - 0s 15ms/step - loss: 0.0595 - accuracy: 0.9825 - val_loss: 0.0712 - val_accuracy: 0.9808 - lr: 0.0010\n",
      "Epoch 46/500\n",
      "12/12 [==============================] - 0s 15ms/step - loss: 0.0593 - accuracy: 0.9820 - val_loss: 0.0700 - val_accuracy: 0.9811 - lr: 0.0010\n",
      "Epoch 47/500\n",
      "12/12 [==============================] - 0s 15ms/step - loss: 0.0577 - accuracy: 0.9826 - val_loss: 0.0702 - val_accuracy: 0.9785 - lr: 0.0010\n",
      "Epoch 48/500\n",
      "12/12 [==============================] - 0s 14ms/step - loss: 0.0567 - accuracy: 0.9831 - val_loss: 0.0707 - val_accuracy: 0.9804 - lr: 0.0010\n",
      "Epoch 49/500\n",
      "12/12 [==============================] - 0s 18ms/step - loss: 0.0587 - accuracy: 0.9829 - val_loss: 0.0676 - val_accuracy: 0.9810 - lr: 0.0010\n",
      "Epoch 50/500\n",
      "12/12 [==============================] - 0s 15ms/step - loss: 0.0571 - accuracy: 0.9824 - val_loss: 0.0685 - val_accuracy: 0.9800 - lr: 0.0010\n",
      "Epoch 51/500\n",
      "12/12 [==============================] - 0s 15ms/step - loss: 0.0570 - accuracy: 0.9829 - val_loss: 0.0687 - val_accuracy: 0.9808 - lr: 0.0010\n",
      "Epoch 52/500\n",
      "12/12 [==============================] - 0s 14ms/step - loss: 0.0546 - accuracy: 0.9836 - val_loss: 0.0661 - val_accuracy: 0.9814 - lr: 0.0010\n",
      "Epoch 53/500\n",
      "12/12 [==============================] - 0s 14ms/step - loss: 0.0538 - accuracy: 0.9834 - val_loss: 0.0668 - val_accuracy: 0.9818 - lr: 0.0010\n",
      "Epoch 54/500\n",
      "12/12 [==============================] - 0s 15ms/step - loss: 0.0532 - accuracy: 0.9837 - val_loss: 0.0669 - val_accuracy: 0.9804 - lr: 0.0010\n"
     ]
    },
    {
     "name": "stdout",
     "output_type": "stream",
     "text": [
      "Epoch 55/500\n",
      "12/12 [==============================] - 0s 15ms/step - loss: 0.0538 - accuracy: 0.9835 - val_loss: 0.0679 - val_accuracy: 0.9790 - lr: 0.0010\n",
      "Epoch 56/500\n",
      "12/12 [==============================] - 0s 15ms/step - loss: 0.0526 - accuracy: 0.9837 - val_loss: 0.0642 - val_accuracy: 0.9829 - lr: 0.0010\n",
      "Epoch 57/500\n",
      "12/12 [==============================] - 0s 15ms/step - loss: 0.0511 - accuracy: 0.9843 - val_loss: 0.0628 - val_accuracy: 0.9832 - lr: 0.0010\n",
      "Epoch 58/500\n",
      "12/12 [==============================] - 0s 16ms/step - loss: 0.0503 - accuracy: 0.9849 - val_loss: 0.0627 - val_accuracy: 0.9834 - lr: 0.0010\n",
      "Epoch 59/500\n",
      "12/12 [==============================] - 0s 15ms/step - loss: 0.0503 - accuracy: 0.9844 - val_loss: 0.0623 - val_accuracy: 0.9822 - lr: 0.0010\n",
      "Epoch 60/500\n",
      "12/12 [==============================] - 0s 15ms/step - loss: 0.0502 - accuracy: 0.9845 - val_loss: 0.0625 - val_accuracy: 0.9838 - lr: 0.0010\n",
      "Epoch 61/500\n",
      "12/12 [==============================] - 0s 15ms/step - loss: 0.0502 - accuracy: 0.9850 - val_loss: 0.0622 - val_accuracy: 0.9832 - lr: 0.0010\n",
      "Epoch 62/500\n",
      "12/12 [==============================] - 0s 15ms/step - loss: 0.0494 - accuracy: 0.9848 - val_loss: 0.0614 - val_accuracy: 0.9838 - lr: 0.0010\n",
      "Epoch 63/500\n",
      "12/12 [==============================] - 0s 15ms/step - loss: 0.0494 - accuracy: 0.9851 - val_loss: 0.0623 - val_accuracy: 0.9830 - lr: 0.0010\n",
      "Epoch 64/500\n",
      "12/12 [==============================] - 0s 15ms/step - loss: 0.0494 - accuracy: 0.9842 - val_loss: 0.0622 - val_accuracy: 0.9831 - lr: 0.0010\n",
      "Epoch 65/500\n",
      "12/12 [==============================] - 0s 16ms/step - loss: 0.0483 - accuracy: 0.9850 - val_loss: 0.0602 - val_accuracy: 0.9838 - lr: 0.0010\n",
      "Epoch 66/500\n",
      "12/12 [==============================] - 0s 15ms/step - loss: 0.0487 - accuracy: 0.9845 - val_loss: 0.0611 - val_accuracy: 0.9824 - lr: 0.0010\n",
      "Epoch 67/500\n",
      "12/12 [==============================] - 0s 15ms/step - loss: 0.0478 - accuracy: 0.9851 - val_loss: 0.0595 - val_accuracy: 0.9841 - lr: 0.0010\n",
      "Epoch 68/500\n",
      "12/12 [==============================] - 0s 15ms/step - loss: 0.0473 - accuracy: 0.9853 - val_loss: 0.0610 - val_accuracy: 0.9836 - lr: 0.0010\n",
      "Epoch 69/500\n",
      "12/12 [==============================] - 0s 15ms/step - loss: 0.0489 - accuracy: 0.9844 - val_loss: 0.0636 - val_accuracy: 0.9828 - lr: 0.0010\n",
      "Epoch 70/500\n",
      "12/12 [==============================] - 0s 15ms/step - loss: 0.0503 - accuracy: 0.9839 - val_loss: 0.0600 - val_accuracy: 0.9837 - lr: 0.0010\n",
      "Epoch 71/500\n",
      "12/12 [==============================] - 0s 15ms/step - loss: 0.0481 - accuracy: 0.9849 - val_loss: 0.0605 - val_accuracy: 0.9837 - lr: 0.0010\n",
      "Epoch 72/500\n",
      "12/12 [==============================] - 0s 15ms/step - loss: 0.0463 - accuracy: 0.9854 - val_loss: 0.0576 - val_accuracy: 0.9836 - lr: 0.0010\n",
      "Epoch 73/500\n",
      "12/12 [==============================] - 0s 15ms/step - loss: 0.0456 - accuracy: 0.9853 - val_loss: 0.0594 - val_accuracy: 0.9841 - lr: 0.0010\n",
      "Epoch 74/500\n",
      "12/12 [==============================] - 0s 16ms/step - loss: 0.0456 - accuracy: 0.9858 - val_loss: 0.0584 - val_accuracy: 0.9846 - lr: 0.0010\n",
      "Epoch 75/500\n",
      "12/12 [==============================] - 0s 15ms/step - loss: 0.0450 - accuracy: 0.9859 - val_loss: 0.0584 - val_accuracy: 0.9843 - lr: 0.0010\n",
      "Epoch 76/500\n",
      "12/12 [==============================] - 0s 15ms/step - loss: 0.0452 - accuracy: 0.9859 - val_loss: 0.0590 - val_accuracy: 0.9838 - lr: 0.0010\n",
      "Epoch 77/500\n",
      "12/12 [==============================] - 0s 15ms/step - loss: 0.0454 - accuracy: 0.9857 - val_loss: 0.0599 - val_accuracy: 0.9827 - lr: 0.0010\n",
      "Epoch 78/500\n",
      "12/12 [==============================] - 0s 15ms/step - loss: 0.0445 - accuracy: 0.9860 - val_loss: 0.0578 - val_accuracy: 0.9816 - lr: 0.0010\n",
      "Epoch 79/500\n",
      "12/12 [==============================] - 0s 15ms/step - loss: 0.0437 - accuracy: 0.9864 - val_loss: 0.0572 - val_accuracy: 0.9837 - lr: 0.0010\n",
      "Epoch 80/500\n",
      "12/12 [==============================] - 0s 15ms/step - loss: 0.0438 - accuracy: 0.9861 - val_loss: 0.0575 - val_accuracy: 0.9837 - lr: 0.0010\n",
      "Epoch 81/500\n",
      "12/12 [==============================] - 0s 15ms/step - loss: 0.0434 - accuracy: 0.9865 - val_loss: 0.0556 - val_accuracy: 0.9851 - lr: 0.0010\n",
      "Epoch 82/500\n",
      "12/12 [==============================] - 0s 15ms/step - loss: 0.0438 - accuracy: 0.9857 - val_loss: 0.0590 - val_accuracy: 0.9828 - lr: 0.0010\n",
      "Epoch 83/500\n",
      "12/12 [==============================] - 0s 15ms/step - loss: 0.0432 - accuracy: 0.9859 - val_loss: 0.0559 - val_accuracy: 0.9838 - lr: 0.0010\n",
      "Epoch 84/500\n",
      "12/12 [==============================] - 0s 15ms/step - loss: 0.0427 - accuracy: 0.9864 - val_loss: 0.0566 - val_accuracy: 0.9849 - lr: 0.0010\n",
      "Epoch 85/500\n",
      "12/12 [==============================] - 0s 14ms/step - loss: 0.0433 - accuracy: 0.9864 - val_loss: 0.0564 - val_accuracy: 0.9840 - lr: 0.0010\n",
      "Epoch 86/500\n",
      "12/12 [==============================] - 0s 15ms/step - loss: 0.0418 - accuracy: 0.9872 - val_loss: 0.0559 - val_accuracy: 0.9843 - lr: 0.0010\n",
      "Epoch 87/500\n",
      "12/12 [==============================] - 0s 15ms/step - loss: 0.0422 - accuracy: 0.9865 - val_loss: 0.0554 - val_accuracy: 0.9849 - lr: 0.0010\n",
      "Epoch 88/500\n",
      "12/12 [==============================] - 0s 15ms/step - loss: 0.0421 - accuracy: 0.9867 - val_loss: 0.0571 - val_accuracy: 0.9838 - lr: 0.0010\n",
      "Epoch 89/500\n",
      "12/12 [==============================] - 0s 15ms/step - loss: 0.0414 - accuracy: 0.9872 - val_loss: 0.0557 - val_accuracy: 0.9826 - lr: 0.0010\n",
      "Epoch 90/500\n",
      "12/12 [==============================] - 0s 16ms/step - loss: 0.0415 - accuracy: 0.9865 - val_loss: 0.0545 - val_accuracy: 0.9852 - lr: 0.0010\n",
      "Epoch 91/500\n",
      "12/12 [==============================] - 0s 15ms/step - loss: 0.0408 - accuracy: 0.9873 - val_loss: 0.0555 - val_accuracy: 0.9857 - lr: 0.0010\n",
      "Epoch 92/500\n",
      "12/12 [==============================] - 0s 14ms/step - loss: 0.0408 - accuracy: 0.9871 - val_loss: 0.0549 - val_accuracy: 0.9844 - lr: 0.0010\n",
      "Epoch 93/500\n",
      "12/12 [==============================] - 0s 15ms/step - loss: 0.0412 - accuracy: 0.9869 - val_loss: 0.0554 - val_accuracy: 0.9846 - lr: 0.0010\n",
      "Epoch 94/500\n",
      "12/12 [==============================] - 0s 15ms/step - loss: 0.0409 - accuracy: 0.9870 - val_loss: 0.0534 - val_accuracy: 0.9862 - lr: 0.0010\n",
      "Epoch 95/500\n",
      "12/12 [==============================] - 0s 15ms/step - loss: 0.0401 - accuracy: 0.9875 - val_loss: 0.0549 - val_accuracy: 0.9851 - lr: 0.0010\n",
      "Epoch 96/500\n",
      "12/12 [==============================] - 0s 15ms/step - loss: 0.0405 - accuracy: 0.9873 - val_loss: 0.0544 - val_accuracy: 0.9844 - lr: 0.0010\n",
      "Epoch 97/500\n",
      "12/12 [==============================] - 0s 15ms/step - loss: 0.0394 - accuracy: 0.9874 - val_loss: 0.0528 - val_accuracy: 0.9856 - lr: 0.0010\n",
      "Epoch 98/500\n",
      "12/12 [==============================] - 0s 15ms/step - loss: 0.0404 - accuracy: 0.9875 - val_loss: 0.0545 - val_accuracy: 0.9817 - lr: 0.0010\n",
      "Epoch 99/500\n",
      "12/12 [==============================] - 0s 14ms/step - loss: 0.0401 - accuracy: 0.9868 - val_loss: 0.0536 - val_accuracy: 0.9858 - lr: 0.0010\n",
      "Epoch 100/500\n",
      "12/12 [==============================] - 0s 15ms/step - loss: 0.0417 - accuracy: 0.9864 - val_loss: 0.0532 - val_accuracy: 0.9855 - lr: 0.0010\n",
      "Epoch 101/500\n",
      "12/12 [==============================] - 0s 15ms/step - loss: 0.0450 - accuracy: 0.9863 - val_loss: 0.0546 - val_accuracy: 0.9851 - lr: 0.0010\n",
      "Epoch 102/500\n",
      "12/12 [==============================] - 0s 15ms/step - loss: 0.0431 - accuracy: 0.9863 - val_loss: 0.0547 - val_accuracy: 0.9846 - lr: 0.0010\n",
      "Epoch 103/500\n",
      "12/12 [==============================] - 0s 16ms/step - loss: 0.0409 - accuracy: 0.9866 - val_loss: 0.0527 - val_accuracy: 0.9860 - lr: 0.0010\n",
      "Epoch 104/500\n",
      "12/12 [==============================] - 0s 15ms/step - loss: 0.0397 - accuracy: 0.9871 - val_loss: 0.0556 - val_accuracy: 0.9841 - lr: 0.0010\n",
      "Epoch 105/500\n",
      "12/12 [==============================] - 0s 15ms/step - loss: 0.0400 - accuracy: 0.9873 - val_loss: 0.0527 - val_accuracy: 0.9855 - lr: 0.0010\n",
      "Epoch 106/500\n",
      "12/12 [==============================] - 0s 15ms/step - loss: 0.0391 - accuracy: 0.9876 - val_loss: 0.0524 - val_accuracy: 0.9856 - lr: 0.0010\n",
      "Epoch 107/500\n"
     ]
    },
    {
     "name": "stdout",
     "output_type": "stream",
     "text": [
      "12/12 [==============================] - 0s 15ms/step - loss: 0.0380 - accuracy: 0.9877 - val_loss: 0.0528 - val_accuracy: 0.9854 - lr: 0.0010\n",
      "Epoch 108/500\n",
      "12/12 [==============================] - 0s 16ms/step - loss: 0.0377 - accuracy: 0.9881 - val_loss: 0.0507 - val_accuracy: 0.9866 - lr: 0.0010\n",
      "Epoch 109/500\n",
      "12/12 [==============================] - 0s 16ms/step - loss: 0.0373 - accuracy: 0.9884 - val_loss: 0.0510 - val_accuracy: 0.9860 - lr: 0.0010\n",
      "Epoch 110/500\n",
      "12/12 [==============================] - 0s 15ms/step - loss: 0.0378 - accuracy: 0.9878 - val_loss: 0.0522 - val_accuracy: 0.9856 - lr: 0.0010\n",
      "Epoch 111/500\n",
      "12/12 [==============================] - 0s 15ms/step - loss: 0.0378 - accuracy: 0.9878 - val_loss: 0.0528 - val_accuracy: 0.9850 - lr: 0.0010\n",
      "Epoch 112/500\n",
      "12/12 [==============================] - 0s 15ms/step - loss: 0.0374 - accuracy: 0.9879 - val_loss: 0.0508 - val_accuracy: 0.9858 - lr: 0.0010\n",
      "Epoch 113/500\n",
      "12/12 [==============================] - 0s 15ms/step - loss: 0.0368 - accuracy: 0.9884 - val_loss: 0.0509 - val_accuracy: 0.9859 - lr: 0.0010\n",
      "Epoch 114/500\n",
      "12/12 [==============================] - 0s 15ms/step - loss: 0.0359 - accuracy: 0.9884 - val_loss: 0.0517 - val_accuracy: 0.9854 - lr: 0.0010\n",
      "Epoch 115/500\n",
      "12/12 [==============================] - 0s 15ms/step - loss: 0.0366 - accuracy: 0.9884 - val_loss: 0.0522 - val_accuracy: 0.9853 - lr: 0.0010\n",
      "Epoch 116/500\n",
      "12/12 [==============================] - 0s 15ms/step - loss: 0.0380 - accuracy: 0.9878 - val_loss: 0.0515 - val_accuracy: 0.9861 - lr: 0.0010\n",
      "Epoch 117/500\n",
      "12/12 [==============================] - 0s 15ms/step - loss: 0.0372 - accuracy: 0.9883 - val_loss: 0.0523 - val_accuracy: 0.9858 - lr: 0.0010\n",
      "Epoch 118/500\n",
      "12/12 [==============================] - 0s 15ms/step - loss: 0.0365 - accuracy: 0.9885 - val_loss: 0.0524 - val_accuracy: 0.9862 - lr: 0.0010\n",
      "Epoch 119/500\n",
      "12/12 [==============================] - 0s 15ms/step - loss: 0.0363 - accuracy: 0.9884 - val_loss: 0.0516 - val_accuracy: 0.9847 - lr: 0.0010\n",
      "Epoch 120/500\n",
      "12/12 [==============================] - 0s 15ms/step - loss: 0.0360 - accuracy: 0.9885 - val_loss: 0.0509 - val_accuracy: 0.9862 - lr: 0.0010\n",
      "Epoch 121/500\n",
      "12/12 [==============================] - 0s 15ms/step - loss: 0.0353 - accuracy: 0.9887 - val_loss: 0.0492 - val_accuracy: 0.9870 - lr: 0.0010\n",
      "Epoch 122/500\n",
      "12/12 [==============================] - 0s 15ms/step - loss: 0.0351 - accuracy: 0.9889 - val_loss: 0.0500 - val_accuracy: 0.9863 - lr: 0.0010\n",
      "Epoch 123/500\n",
      "12/12 [==============================] - 0s 15ms/step - loss: 0.0351 - accuracy: 0.9885 - val_loss: 0.0514 - val_accuracy: 0.9849 - lr: 0.0010\n",
      "Epoch 124/500\n",
      "12/12 [==============================] - 0s 16ms/step - loss: 0.0364 - accuracy: 0.9883 - val_loss: 0.0501 - val_accuracy: 0.9864 - lr: 0.0010\n",
      "Epoch 125/500\n",
      "12/12 [==============================] - 0s 17ms/step - loss: 0.0361 - accuracy: 0.9881 - val_loss: 0.0510 - val_accuracy: 0.9859 - lr: 0.0010\n",
      "Epoch 126/500\n",
      "12/12 [==============================] - 0s 14ms/step - loss: 0.0355 - accuracy: 0.9886 - val_loss: 0.0503 - val_accuracy: 0.9859 - lr: 0.0010\n",
      "Epoch 127/500\n",
      "12/12 [==============================] - 0s 15ms/step - loss: 0.0352 - accuracy: 0.9890 - val_loss: 0.0508 - val_accuracy: 0.9861 - lr: 0.0010\n",
      "Epoch 128/500\n",
      "12/12 [==============================] - 0s 15ms/step - loss: 0.0349 - accuracy: 0.9887 - val_loss: 0.0518 - val_accuracy: 0.9850 - lr: 0.0010\n",
      "Epoch 129/500\n",
      "12/12 [==============================] - 0s 14ms/step - loss: 0.0357 - accuracy: 0.9884 - val_loss: 0.0523 - val_accuracy: 0.9855 - lr: 0.0010\n",
      "Epoch 130/500\n",
      "12/12 [==============================] - 0s 15ms/step - loss: 0.0356 - accuracy: 0.9887 - val_loss: 0.0503 - val_accuracy: 0.9870 - lr: 0.0010\n",
      "Epoch 131/500\n",
      "12/12 [==============================] - 0s 15ms/step - loss: 0.0349 - accuracy: 0.9886 - val_loss: 0.0505 - val_accuracy: 0.9865 - lr: 0.0010\n",
      "Epoch 132/500\n",
      "12/12 [==============================] - 0s 15ms/step - loss: 0.0350 - accuracy: 0.9887 - val_loss: 0.0509 - val_accuracy: 0.9859 - lr: 0.0010\n",
      "Epoch 133/500\n",
      "12/12 [==============================] - 0s 15ms/step - loss: 0.0353 - accuracy: 0.9883 - val_loss: 0.0513 - val_accuracy: 0.9866 - lr: 0.0010\n",
      "Epoch 134/500\n",
      "12/12 [==============================] - 0s 15ms/step - loss: 0.0367 - accuracy: 0.9874 - val_loss: 0.0526 - val_accuracy: 0.9847 - lr: 0.0010\n",
      "Epoch 135/500\n",
      "12/12 [==============================] - 0s 15ms/step - loss: 0.0377 - accuracy: 0.9874 - val_loss: 0.0513 - val_accuracy: 0.9857 - lr: 0.0010\n",
      "Epoch 136/500\n",
      "12/12 [==============================] - 0s 15ms/step - loss: 0.0357 - accuracy: 0.9882 - val_loss: 0.0518 - val_accuracy: 0.9860 - lr: 0.0010\n",
      "Epoch 137/500\n",
      "12/12 [==============================] - 0s 15ms/step - loss: 0.0356 - accuracy: 0.9881 - val_loss: 0.0505 - val_accuracy: 0.9861 - lr: 0.0010\n",
      "Epoch 138/500\n",
      "12/12 [==============================] - 0s 15ms/step - loss: 0.0340 - accuracy: 0.9889 - val_loss: 0.0498 - val_accuracy: 0.9868 - lr: 0.0010\n",
      "Epoch 139/500\n",
      "12/12 [==============================] - 0s 15ms/step - loss: 0.0339 - accuracy: 0.9886 - val_loss: 0.0489 - val_accuracy: 0.9867 - lr: 0.0010\n",
      "Epoch 140/500\n",
      "12/12 [==============================] - 0s 14ms/step - loss: 0.0331 - accuracy: 0.9892 - val_loss: 0.0493 - val_accuracy: 0.9863 - lr: 0.0010\n",
      "Epoch 141/500\n",
      "12/12 [==============================] - 0s 14ms/step - loss: 0.0331 - accuracy: 0.9894 - val_loss: 0.0490 - val_accuracy: 0.9867 - lr: 0.0010\n",
      "Epoch 142/500\n",
      "12/12 [==============================] - 0s 15ms/step - loss: 0.0329 - accuracy: 0.9893 - val_loss: 0.0512 - val_accuracy: 0.9856 - lr: 0.0010\n",
      "Epoch 143/500\n",
      "12/12 [==============================] - 0s 15ms/step - loss: 0.0348 - accuracy: 0.9883 - val_loss: 0.0483 - val_accuracy: 0.9871 - lr: 0.0010\n",
      "Epoch 144/500\n",
      "12/12 [==============================] - 0s 15ms/step - loss: 0.0348 - accuracy: 0.9885 - val_loss: 0.0489 - val_accuracy: 0.9869 - lr: 0.0010\n",
      "Epoch 145/500\n",
      "12/12 [==============================] - 0s 15ms/step - loss: 0.0327 - accuracy: 0.9893 - val_loss: 0.0486 - val_accuracy: 0.9869 - lr: 0.0010\n",
      "Epoch 146/500\n",
      "12/12 [==============================] - 0s 15ms/step - loss: 0.0329 - accuracy: 0.9890 - val_loss: 0.0490 - val_accuracy: 0.9866 - lr: 0.0010\n",
      "Epoch 147/500\n",
      "12/12 [==============================] - 0s 15ms/step - loss: 0.0339 - accuracy: 0.9889 - val_loss: 0.0492 - val_accuracy: 0.9866 - lr: 0.0010\n",
      "Epoch 148/500\n",
      "12/12 [==============================] - 0s 15ms/step - loss: 0.0359 - accuracy: 0.9884 - val_loss: 0.0527 - val_accuracy: 0.9855 - lr: 0.0010\n",
      "Epoch 149/500\n",
      "12/12 [==============================] - 0s 15ms/step - loss: 0.0351 - accuracy: 0.9886 - val_loss: 0.0492 - val_accuracy: 0.9866 - lr: 0.0010\n",
      "Epoch 150/500\n",
      "12/12 [==============================] - 0s 15ms/step - loss: 0.0338 - accuracy: 0.9891 - val_loss: 0.0500 - val_accuracy: 0.9867 - lr: 0.0010\n",
      "Epoch 151/500\n",
      "12/12 [==============================] - 0s 15ms/step - loss: 0.0339 - accuracy: 0.9889 - val_loss: 0.0498 - val_accuracy: 0.9850 - lr: 0.0010\n",
      "Epoch 152/500\n",
      "12/12 [==============================] - 0s 15ms/step - loss: 0.0338 - accuracy: 0.9887 - val_loss: 0.0497 - val_accuracy: 0.9866 - lr: 0.0010\n",
      "Epoch 153/500\n",
      "12/12 [==============================] - 0s 15ms/step - loss: 0.0331 - accuracy: 0.9890 - val_loss: 0.0489 - val_accuracy: 0.9872 - lr: 0.0010\n",
      "Epoch 154/500\n",
      "12/12 [==============================] - 0s 15ms/step - loss: 0.0318 - accuracy: 0.9898 - val_loss: 0.0501 - val_accuracy: 0.9864 - lr: 0.0010\n",
      "Epoch 155/500\n",
      "12/12 [==============================] - 0s 15ms/step - loss: 0.0327 - accuracy: 0.9893 - val_loss: 0.0531 - val_accuracy: 0.9853 - lr: 0.0010\n",
      "Epoch 156/500\n",
      "12/12 [==============================] - 0s 15ms/step - loss: 0.0354 - accuracy: 0.9883 - val_loss: 0.0517 - val_accuracy: 0.9847 - lr: 0.0010\n",
      "Epoch 157/500\n",
      "12/12 [==============================] - 0s 15ms/step - loss: 0.0336 - accuracy: 0.9888 - val_loss: 0.0522 - val_accuracy: 0.9861 - lr: 0.0010\n",
      "Epoch 158/500\n",
      "12/12 [==============================] - 0s 15ms/step - loss: 0.0339 - accuracy: 0.9882 - val_loss: 0.0499 - val_accuracy: 0.9875 - lr: 0.0010\n",
      "Epoch 159/500\n"
     ]
    },
    {
     "name": "stdout",
     "output_type": "stream",
     "text": [
      "12/12 [==============================] - 0s 15ms/step - loss: 0.0324 - accuracy: 0.9892 - val_loss: 0.0487 - val_accuracy: 0.9869 - lr: 0.0010\n",
      "Epoch 160/500\n",
      "12/12 [==============================] - 0s 15ms/step - loss: 0.0317 - accuracy: 0.9898 - val_loss: 0.0481 - val_accuracy: 0.9874 - lr: 0.0010\n",
      "Epoch 161/500\n",
      "12/12 [==============================] - 0s 15ms/step - loss: 0.0310 - accuracy: 0.9899 - val_loss: 0.0490 - val_accuracy: 0.9856 - lr: 0.0010\n",
      "Epoch 162/500\n",
      "12/12 [==============================] - 0s 15ms/step - loss: 0.0326 - accuracy: 0.9886 - val_loss: 0.0475 - val_accuracy: 0.9875 - lr: 0.0010\n",
      "Epoch 163/500\n",
      "12/12 [==============================] - 0s 15ms/step - loss: 0.0311 - accuracy: 0.9896 - val_loss: 0.0493 - val_accuracy: 0.9864 - lr: 0.0010\n",
      "Epoch 164/500\n",
      "12/12 [==============================] - 0s 15ms/step - loss: 0.0315 - accuracy: 0.9898 - val_loss: 0.0492 - val_accuracy: 0.9871 - lr: 0.0010\n",
      "Epoch 165/500\n",
      "12/12 [==============================] - 0s 14ms/step - loss: 0.0324 - accuracy: 0.9895 - val_loss: 0.0516 - val_accuracy: 0.9854 - lr: 0.0010\n",
      "Epoch 166/500\n",
      "12/12 [==============================] - 0s 14ms/step - loss: 0.0322 - accuracy: 0.9894 - val_loss: 0.0478 - val_accuracy: 0.9873 - lr: 0.0010\n",
      "Epoch 167/500\n",
      "12/12 [==============================] - 0s 15ms/step - loss: 0.0323 - accuracy: 0.9894 - val_loss: 0.0491 - val_accuracy: 0.9878 - lr: 0.0010\n",
      "Epoch 168/500\n",
      "12/12 [==============================] - 0s 15ms/step - loss: 0.0309 - accuracy: 0.9902 - val_loss: 0.0480 - val_accuracy: 0.9873 - lr: 0.0010\n",
      "Epoch 169/500\n",
      "12/12 [==============================] - 0s 15ms/step - loss: 0.0306 - accuracy: 0.9902 - val_loss: 0.0486 - val_accuracy: 0.9874 - lr: 0.0010\n",
      "Epoch 170/500\n",
      "12/12 [==============================] - 0s 15ms/step - loss: 0.0311 - accuracy: 0.9901 - val_loss: 0.0486 - val_accuracy: 0.9873 - lr: 0.0010\n",
      "Epoch 171/500\n",
      "12/12 [==============================] - 0s 15ms/step - loss: 0.0312 - accuracy: 0.9896 - val_loss: 0.0487 - val_accuracy: 0.9870 - lr: 0.0010\n",
      "Epoch 172/500\n",
      "12/12 [==============================] - 0s 15ms/step - loss: 0.0307 - accuracy: 0.9900 - val_loss: 0.0473 - val_accuracy: 0.9879 - lr: 0.0010\n",
      "Epoch 173/500\n",
      "12/12 [==============================] - 0s 15ms/step - loss: 0.0300 - accuracy: 0.9903 - val_loss: 0.0469 - val_accuracy: 0.9886 - lr: 0.0010\n",
      "Epoch 174/500\n",
      "12/12 [==============================] - 0s 15ms/step - loss: 0.0297 - accuracy: 0.9901 - val_loss: 0.0474 - val_accuracy: 0.9876 - lr: 0.0010\n",
      "Epoch 175/500\n",
      "12/12 [==============================] - 0s 14ms/step - loss: 0.0305 - accuracy: 0.9897 - val_loss: 0.0479 - val_accuracy: 0.9880 - lr: 0.0010\n",
      "Epoch 176/500\n",
      "12/12 [==============================] - 0s 15ms/step - loss: 0.0305 - accuracy: 0.9902 - val_loss: 0.0499 - val_accuracy: 0.9877 - lr: 0.0010\n",
      "Epoch 177/500\n",
      "12/12 [==============================] - 0s 15ms/step - loss: 0.0334 - accuracy: 0.9902 - val_loss: 0.0507 - val_accuracy: 0.9864 - lr: 0.0010\n",
      "Epoch 178/500\n",
      "12/12 [==============================] - 0s 14ms/step - loss: 0.0323 - accuracy: 0.9896 - val_loss: 0.0506 - val_accuracy: 0.9868 - lr: 0.0010\n",
      "Epoch 179/500\n",
      "12/12 [==============================] - 0s 15ms/step - loss: 0.0314 - accuracy: 0.9894 - val_loss: 0.0496 - val_accuracy: 0.9871 - lr: 0.0010\n",
      "Epoch 180/500\n",
      "12/12 [==============================] - 0s 14ms/step - loss: 0.0306 - accuracy: 0.9899 - val_loss: 0.0497 - val_accuracy: 0.9864 - lr: 0.0010\n",
      "Epoch 181/500\n",
      "12/12 [==============================] - 0s 15ms/step - loss: 0.0317 - accuracy: 0.9898 - val_loss: 0.0504 - val_accuracy: 0.9866 - lr: 0.0010\n",
      "Epoch 182/500\n",
      "12/12 [==============================] - 0s 14ms/step - loss: 0.0312 - accuracy: 0.9896 - val_loss: 0.0489 - val_accuracy: 0.9876 - lr: 0.0010\n",
      "Epoch 183/500\n",
      "12/12 [==============================] - 0s 14ms/step - loss: 0.0307 - accuracy: 0.9901 - val_loss: 0.0492 - val_accuracy: 0.9877 - lr: 0.0010\n",
      "Epoch 184/500\n",
      "12/12 [==============================] - 0s 15ms/step - loss: 0.0296 - accuracy: 0.9908 - val_loss: 0.0475 - val_accuracy: 0.9879 - lr: 0.0010\n",
      "Epoch 185/500\n",
      "12/12 [==============================] - 0s 14ms/step - loss: 0.0301 - accuracy: 0.9900 - val_loss: 0.0486 - val_accuracy: 0.9873 - lr: 0.0010\n",
      "Epoch 186/500\n",
      "12/12 [==============================] - 0s 15ms/step - loss: 0.0308 - accuracy: 0.9894 - val_loss: 0.0484 - val_accuracy: 0.9876 - lr: 0.0010\n",
      "Epoch 187/500\n",
      "12/12 [==============================] - 0s 15ms/step - loss: 0.0304 - accuracy: 0.9896 - val_loss: 0.0500 - val_accuracy: 0.9878 - lr: 0.0010\n",
      "Epoch 188/500\n",
      "12/12 [==============================] - 0s 15ms/step - loss: 0.0303 - accuracy: 0.9904 - val_loss: 0.0471 - val_accuracy: 0.9884 - lr: 0.0010\n",
      "Epoch 189/500\n",
      "12/12 [==============================] - 0s 15ms/step - loss: 0.0293 - accuracy: 0.9901 - val_loss: 0.0485 - val_accuracy: 0.9875 - lr: 0.0010\n",
      "Epoch 190/500\n",
      "12/12 [==============================] - 0s 14ms/step - loss: 0.0297 - accuracy: 0.9902 - val_loss: 0.0484 - val_accuracy: 0.9880 - lr: 0.0010\n",
      "Epoch 191/500\n",
      "12/12 [==============================] - 0s 15ms/step - loss: 0.0308 - accuracy: 0.9895 - val_loss: 0.0496 - val_accuracy: 0.9874 - lr: 0.0010\n",
      "Epoch 192/500\n",
      "12/12 [==============================] - 0s 15ms/step - loss: 0.0303 - accuracy: 0.9895 - val_loss: 0.0473 - val_accuracy: 0.9878 - lr: 0.0010\n",
      "Epoch 193/500\n",
      "12/12 [==============================] - 0s 15ms/step - loss: 0.0295 - accuracy: 0.9899 - val_loss: 0.0479 - val_accuracy: 0.9876 - lr: 0.0010\n",
      "Epoch 194/500\n",
      "12/12 [==============================] - 0s 15ms/step - loss: 0.0296 - accuracy: 0.9900 - val_loss: 0.0463 - val_accuracy: 0.9882 - lr: 0.0010\n",
      "Epoch 195/500\n",
      "12/12 [==============================] - 0s 15ms/step - loss: 0.0293 - accuracy: 0.9901 - val_loss: 0.0479 - val_accuracy: 0.9875 - lr: 0.0010\n",
      "Epoch 196/500\n",
      "12/12 [==============================] - 0s 15ms/step - loss: 0.0292 - accuracy: 0.9899 - val_loss: 0.0488 - val_accuracy: 0.9872 - lr: 0.0010\n",
      "Epoch 197/500\n",
      "12/12 [==============================] - 0s 15ms/step - loss: 0.0289 - accuracy: 0.9905 - val_loss: 0.0464 - val_accuracy: 0.9886 - lr: 0.0010\n",
      "Epoch 198/500\n",
      "12/12 [==============================] - 0s 15ms/step - loss: 0.0284 - accuracy: 0.9910 - val_loss: 0.0471 - val_accuracy: 0.9882 - lr: 0.0010\n",
      "Epoch 199/500\n",
      "12/12 [==============================] - 0s 15ms/step - loss: 0.0284 - accuracy: 0.9909 - val_loss: 0.0481 - val_accuracy: 0.9876 - lr: 0.0010\n",
      "Epoch 200/500\n",
      "12/12 [==============================] - 0s 15ms/step - loss: 0.0286 - accuracy: 0.9903 - val_loss: 0.0499 - val_accuracy: 0.9873 - lr: 0.0010\n",
      "Epoch 201/500\n",
      "12/12 [==============================] - 0s 15ms/step - loss: 0.0293 - accuracy: 0.9901 - val_loss: 0.0475 - val_accuracy: 0.9882 - lr: 0.0010\n",
      "Epoch 202/500\n",
      "12/12 [==============================] - 0s 15ms/step - loss: 0.0293 - accuracy: 0.9905 - val_loss: 0.0498 - val_accuracy: 0.9878 - lr: 0.0010\n",
      "Epoch 203/500\n",
      "12/12 [==============================] - 0s 15ms/step - loss: 0.0288 - accuracy: 0.9904 - val_loss: 0.0479 - val_accuracy: 0.9874 - lr: 0.0010\n",
      "Epoch 204/500\n",
      "12/12 [==============================] - 0s 15ms/step - loss: 0.0281 - accuracy: 0.9902 - val_loss: 0.0481 - val_accuracy: 0.9876 - lr: 0.0010\n",
      "Epoch 205/500\n",
      "12/12 [==============================] - 0s 15ms/step - loss: 0.0302 - accuracy: 0.9898 - val_loss: 0.0506 - val_accuracy: 0.9860 - lr: 0.0010\n",
      "Epoch 206/500\n",
      "12/12 [==============================] - 0s 15ms/step - loss: 0.0291 - accuracy: 0.9903 - val_loss: 0.0475 - val_accuracy: 0.9877 - lr: 0.0010\n",
      "Epoch 207/500\n",
      "12/12 [==============================] - 0s 15ms/step - loss: 0.0288 - accuracy: 0.9905 - val_loss: 0.0486 - val_accuracy: 0.9879 - lr: 0.0010\n",
      "Epoch 208/500\n",
      "12/12 [==============================] - 0s 15ms/step - loss: 0.0295 - accuracy: 0.9901 - val_loss: 0.0495 - val_accuracy: 0.9878 - lr: 0.0010\n",
      "Epoch 209/500\n",
      "12/12 [==============================] - 0s 15ms/step - loss: 0.0310 - accuracy: 0.9899 - val_loss: 0.0497 - val_accuracy: 0.9869 - lr: 0.0010\n",
      "Epoch 210/500\n",
      "12/12 [==============================] - 0s 15ms/step - loss: 0.0324 - accuracy: 0.9889 - val_loss: 0.0478 - val_accuracy: 0.9862 - lr: 0.0010\n",
      "Epoch 211/500\n"
     ]
    },
    {
     "name": "stdout",
     "output_type": "stream",
     "text": [
      "12/12 [==============================] - 0s 15ms/step - loss: 0.0304 - accuracy: 0.9898 - val_loss: 0.0475 - val_accuracy: 0.9883 - lr: 0.0010\n",
      "Epoch 212/500\n",
      "12/12 [==============================] - 0s 14ms/step - loss: 0.0281 - accuracy: 0.9908 - val_loss: 0.0472 - val_accuracy: 0.9878 - lr: 0.0010\n",
      "Epoch 213/500\n",
      "12/12 [==============================] - 0s 15ms/step - loss: 0.0287 - accuracy: 0.9907 - val_loss: 0.0466 - val_accuracy: 0.9886 - lr: 0.0010\n",
      "Epoch 214/500\n",
      "12/12 [==============================] - 0s 15ms/step - loss: 0.0276 - accuracy: 0.9909 - val_loss: 0.0461 - val_accuracy: 0.9879 - lr: 0.0010\n",
      "Epoch 215/500\n",
      "12/12 [==============================] - 0s 15ms/step - loss: 0.0277 - accuracy: 0.9907 - val_loss: 0.0480 - val_accuracy: 0.9885 - lr: 0.0010\n",
      "Epoch 216/500\n",
      "12/12 [==============================] - 0s 15ms/step - loss: 0.0276 - accuracy: 0.9907 - val_loss: 0.0469 - val_accuracy: 0.9879 - lr: 0.0010\n",
      "Epoch 217/500\n",
      "12/12 [==============================] - 0s 14ms/step - loss: 0.0269 - accuracy: 0.9908 - val_loss: 0.0462 - val_accuracy: 0.9890 - lr: 0.0010\n",
      "Epoch 218/500\n",
      "12/12 [==============================] - 0s 15ms/step - loss: 0.0271 - accuracy: 0.9913 - val_loss: 0.0461 - val_accuracy: 0.9893 - lr: 0.0010\n",
      "Epoch 219/500\n",
      "12/12 [==============================] - 0s 15ms/step - loss: 0.0272 - accuracy: 0.9912 - val_loss: 0.0468 - val_accuracy: 0.9884 - lr: 0.0010\n",
      "Epoch 220/500\n",
      "12/12 [==============================] - 0s 15ms/step - loss: 0.0272 - accuracy: 0.9908 - val_loss: 0.0469 - val_accuracy: 0.9880 - lr: 0.0010\n",
      "Epoch 221/500\n",
      "12/12 [==============================] - 0s 15ms/step - loss: 0.0270 - accuracy: 0.9911 - val_loss: 0.0460 - val_accuracy: 0.9891 - lr: 0.0010\n",
      "Epoch 222/500\n",
      "12/12 [==============================] - 0s 15ms/step - loss: 0.0270 - accuracy: 0.9913 - val_loss: 0.0473 - val_accuracy: 0.9889 - lr: 0.0010\n",
      "Epoch 223/500\n",
      "12/12 [==============================] - 0s 15ms/step - loss: 0.0280 - accuracy: 0.9906 - val_loss: 0.0476 - val_accuracy: 0.9882 - lr: 0.0010\n",
      "Epoch 224/500\n",
      "12/12 [==============================] - 0s 15ms/step - loss: 0.0284 - accuracy: 0.9904 - val_loss: 0.0476 - val_accuracy: 0.9883 - lr: 0.0010\n",
      "Epoch 225/500\n",
      "12/12 [==============================] - 0s 15ms/step - loss: 0.0281 - accuracy: 0.9907 - val_loss: 0.0479 - val_accuracy: 0.9881 - lr: 0.0010\n",
      "Epoch 226/500\n",
      "12/12 [==============================] - 0s 15ms/step - loss: 0.0287 - accuracy: 0.9906 - val_loss: 0.0483 - val_accuracy: 0.9870 - lr: 0.0010\n",
      "Epoch 227/500\n",
      "12/12 [==============================] - 0s 15ms/step - loss: 0.0279 - accuracy: 0.9904 - val_loss: 0.0468 - val_accuracy: 0.9877 - lr: 0.0010\n",
      "Epoch 228/500\n",
      "12/12 [==============================] - 0s 15ms/step - loss: 0.0271 - accuracy: 0.9906 - val_loss: 0.0466 - val_accuracy: 0.9890 - lr: 5.0000e-04\n",
      "Epoch 229/500\n",
      "12/12 [==============================] - 0s 15ms/step - loss: 0.0264 - accuracy: 0.9910 - val_loss: 0.0457 - val_accuracy: 0.9890 - lr: 5.0000e-04\n",
      "Epoch 230/500\n",
      "12/12 [==============================] - 0s 15ms/step - loss: 0.0258 - accuracy: 0.9917 - val_loss: 0.0460 - val_accuracy: 0.9884 - lr: 5.0000e-04\n",
      "Epoch 231/500\n",
      "12/12 [==============================] - 0s 15ms/step - loss: 0.0254 - accuracy: 0.9919 - val_loss: 0.0461 - val_accuracy: 0.9885 - lr: 5.0000e-04\n",
      "Epoch 232/500\n",
      "12/12 [==============================] - 0s 14ms/step - loss: 0.0256 - accuracy: 0.9916 - val_loss: 0.0458 - val_accuracy: 0.9891 - lr: 5.0000e-04\n",
      "Epoch 233/500\n",
      "12/12 [==============================] - 0s 15ms/step - loss: 0.0262 - accuracy: 0.9914 - val_loss: 0.0464 - val_accuracy: 0.9889 - lr: 5.0000e-04\n",
      "Epoch 234/500\n",
      "12/12 [==============================] - 0s 15ms/step - loss: 0.0265 - accuracy: 0.9913 - val_loss: 0.0460 - val_accuracy: 0.9889 - lr: 5.0000e-04\n",
      "Epoch 235/500\n",
      "12/12 [==============================] - 0s 15ms/step - loss: 0.0259 - accuracy: 0.9914 - val_loss: 0.0484 - val_accuracy: 0.9881 - lr: 5.0000e-04\n",
      "Epoch 236/500\n",
      "12/12 [==============================] - 0s 15ms/step - loss: 0.0257 - accuracy: 0.9917 - val_loss: 0.0458 - val_accuracy: 0.9885 - lr: 5.0000e-04\n",
      "Epoch 237/500\n",
      "12/12 [==============================] - 0s 15ms/step - loss: 0.0260 - accuracy: 0.9913 - val_loss: 0.0461 - val_accuracy: 0.9896 - lr: 5.0000e-04\n",
      "Epoch 238/500\n",
      "12/12 [==============================] - 0s 15ms/step - loss: 0.0261 - accuracy: 0.9914 - val_loss: 0.0462 - val_accuracy: 0.9888 - lr: 5.0000e-04\n",
      "Epoch 239/500\n",
      "12/12 [==============================] - 0s 15ms/step - loss: 0.0254 - accuracy: 0.9916 - val_loss: 0.0459 - val_accuracy: 0.9893 - lr: 5.0000e-04\n",
      "Epoch 240/500\n",
      "12/12 [==============================] - 0s 15ms/step - loss: 0.0256 - accuracy: 0.9918 - val_loss: 0.0455 - val_accuracy: 0.9895 - lr: 5.0000e-04\n",
      "Epoch 241/500\n",
      "12/12 [==============================] - 0s 15ms/step - loss: 0.0252 - accuracy: 0.9917 - val_loss: 0.0455 - val_accuracy: 0.9891 - lr: 5.0000e-04\n",
      "Epoch 242/500\n",
      "12/12 [==============================] - 0s 15ms/step - loss: 0.0251 - accuracy: 0.9920 - val_loss: 0.0458 - val_accuracy: 0.9891 - lr: 5.0000e-04\n",
      "Epoch 243/500\n",
      "12/12 [==============================] - 0s 15ms/step - loss: 0.0251 - accuracy: 0.9920 - val_loss: 0.0460 - val_accuracy: 0.9894 - lr: 5.0000e-04\n",
      "Epoch 244/500\n",
      "12/12 [==============================] - 0s 15ms/step - loss: 0.0250 - accuracy: 0.9919 - val_loss: 0.0453 - val_accuracy: 0.9898 - lr: 5.0000e-04\n",
      "Epoch 245/500\n",
      "12/12 [==============================] - 0s 15ms/step - loss: 0.0253 - accuracy: 0.9917 - val_loss: 0.0457 - val_accuracy: 0.9885 - lr: 5.0000e-04\n",
      "Epoch 246/500\n",
      "12/12 [==============================] - 0s 15ms/step - loss: 0.0250 - accuracy: 0.9920 - val_loss: 0.0460 - val_accuracy: 0.9891 - lr: 5.0000e-04\n",
      "Epoch 247/500\n",
      "12/12 [==============================] - 0s 15ms/step - loss: 0.0250 - accuracy: 0.9920 - val_loss: 0.0457 - val_accuracy: 0.9885 - lr: 5.0000e-04\n",
      "Epoch 248/500\n",
      "12/12 [==============================] - 0s 15ms/step - loss: 0.0261 - accuracy: 0.9913 - val_loss: 0.0457 - val_accuracy: 0.9891 - lr: 5.0000e-04\n",
      "Epoch 249/500\n",
      "12/12 [==============================] - 0s 15ms/step - loss: 0.0260 - accuracy: 0.9916 - val_loss: 0.0464 - val_accuracy: 0.9880 - lr: 5.0000e-04\n",
      "Epoch 250/500\n",
      "12/12 [==============================] - 0s 15ms/step - loss: 0.0255 - accuracy: 0.9914 - val_loss: 0.0467 - val_accuracy: 0.9892 - lr: 5.0000e-04\n",
      "Epoch 251/500\n",
      "12/12 [==============================] - 0s 16ms/step - loss: 0.0263 - accuracy: 0.9911 - val_loss: 0.0465 - val_accuracy: 0.9885 - lr: 5.0000e-04\n",
      "Epoch 252/500\n",
      "12/12 [==============================] - 0s 15ms/step - loss: 0.0259 - accuracy: 0.9916 - val_loss: 0.0470 - val_accuracy: 0.9887 - lr: 5.0000e-04\n",
      "Epoch 253/500\n",
      "12/12 [==============================] - 0s 15ms/step - loss: 0.0256 - accuracy: 0.9914 - val_loss: 0.0452 - val_accuracy: 0.9894 - lr: 5.0000e-04\n",
      "Epoch 254/500\n",
      "12/12 [==============================] - 0s 15ms/step - loss: 0.0251 - accuracy: 0.9921 - val_loss: 0.0477 - val_accuracy: 0.9877 - lr: 5.0000e-04\n",
      "Epoch 255/500\n",
      "12/12 [==============================] - 0s 15ms/step - loss: 0.0249 - accuracy: 0.9919 - val_loss: 0.0457 - val_accuracy: 0.9891 - lr: 2.5000e-04\n",
      "Epoch 256/500\n",
      "12/12 [==============================] - 0s 15ms/step - loss: 0.0242 - accuracy: 0.9922 - val_loss: 0.0454 - val_accuracy: 0.9890 - lr: 2.5000e-04\n",
      "Epoch 257/500\n",
      "12/12 [==============================] - 0s 15ms/step - loss: 0.0243 - accuracy: 0.9920 - val_loss: 0.0457 - val_accuracy: 0.9891 - lr: 2.5000e-04\n",
      "Epoch 258/500\n",
      "12/12 [==============================] - 0s 15ms/step - loss: 0.0240 - accuracy: 0.9921 - val_loss: 0.0454 - val_accuracy: 0.9888 - lr: 2.5000e-04\n",
      "Epoch 259/500\n",
      "12/12 [==============================] - 0s 15ms/step - loss: 0.0240 - accuracy: 0.9922 - val_loss: 0.0450 - val_accuracy: 0.9891 - lr: 2.5000e-04\n",
      "Epoch 260/500\n",
      "12/12 [==============================] - 0s 15ms/step - loss: 0.0243 - accuracy: 0.9920 - val_loss: 0.0450 - val_accuracy: 0.9896 - lr: 2.5000e-04\n",
      "Epoch 261/500\n",
      "12/12 [==============================] - 0s 16ms/step - loss: 0.0241 - accuracy: 0.9922 - val_loss: 0.0454 - val_accuracy: 0.9892 - lr: 2.5000e-04\n",
      "Epoch 262/500\n"
     ]
    },
    {
     "name": "stdout",
     "output_type": "stream",
     "text": [
      "12/12 [==============================] - 0s 16ms/step - loss: 0.0241 - accuracy: 0.9922 - val_loss: 0.0453 - val_accuracy: 0.9887 - lr: 2.5000e-04\n",
      "Epoch 263/500\n",
      "12/12 [==============================] - 0s 15ms/step - loss: 0.0241 - accuracy: 0.9921 - val_loss: 0.0448 - val_accuracy: 0.9891 - lr: 2.5000e-04\n",
      "Epoch 264/500\n",
      "12/12 [==============================] - 0s 15ms/step - loss: 0.0242 - accuracy: 0.9922 - val_loss: 0.0449 - val_accuracy: 0.9898 - lr: 2.5000e-04\n",
      "Epoch 265/500\n",
      "12/12 [==============================] - 0s 15ms/step - loss: 0.0242 - accuracy: 0.9922 - val_loss: 0.0446 - val_accuracy: 0.9895 - lr: 2.5000e-04\n",
      "Epoch 266/500\n",
      "12/12 [==============================] - 0s 15ms/step - loss: 0.0241 - accuracy: 0.9922 - val_loss: 0.0452 - val_accuracy: 0.9898 - lr: 2.5000e-04\n",
      "Epoch 267/500\n",
      "12/12 [==============================] - 0s 15ms/step - loss: 0.0242 - accuracy: 0.9921 - val_loss: 0.0448 - val_accuracy: 0.9893 - lr: 2.5000e-04\n",
      "Epoch 268/500\n",
      "12/12 [==============================] - 0s 15ms/step - loss: 0.0240 - accuracy: 0.9922 - val_loss: 0.0455 - val_accuracy: 0.9889 - lr: 2.5000e-04\n",
      "Epoch 269/500\n",
      "12/12 [==============================] - 0s 15ms/step - loss: 0.0239 - accuracy: 0.9923 - val_loss: 0.0448 - val_accuracy: 0.9892 - lr: 1.2500e-04\n",
      "Epoch 270/500\n",
      "12/12 [==============================] - 0s 15ms/step - loss: 0.0236 - accuracy: 0.9925 - val_loss: 0.0447 - val_accuracy: 0.9892 - lr: 1.2500e-04\n",
      "Epoch 271/500\n",
      "12/12 [==============================] - 0s 14ms/step - loss: 0.0236 - accuracy: 0.9925 - val_loss: 0.0450 - val_accuracy: 0.9892 - lr: 1.2500e-04\n",
      "Epoch 272/500\n",
      "12/12 [==============================] - 0s 16ms/step - loss: 0.0236 - accuracy: 0.9925 - val_loss: 0.0450 - val_accuracy: 0.9892 - lr: 1.2500e-04\n",
      "Epoch 273/500\n",
      "12/12 [==============================] - 0s 15ms/step - loss: 0.0235 - accuracy: 0.9924 - val_loss: 0.0447 - val_accuracy: 0.9893 - lr: 1.2500e-04\n",
      "Epoch 274/500\n",
      "12/12 [==============================] - 0s 15ms/step - loss: 0.0236 - accuracy: 0.9923 - val_loss: 0.0453 - val_accuracy: 0.9889 - lr: 1.2500e-04\n",
      "Epoch 275/500\n",
      "12/12 [==============================] - 0s 15ms/step - loss: 0.0236 - accuracy: 0.9926 - val_loss: 0.0449 - val_accuracy: 0.9896 - lr: 1.2500e-04\n",
      "Epoch 276/500\n",
      "12/12 [==============================] - 0s 15ms/step - loss: 0.0235 - accuracy: 0.9925 - val_loss: 0.0449 - val_accuracy: 0.9892 - lr: 1.2500e-04\n",
      "Epoch 277/500\n",
      "12/12 [==============================] - 0s 15ms/step - loss: 0.0235 - accuracy: 0.9926 - val_loss: 0.0449 - val_accuracy: 0.9894 - lr: 1.2500e-04\n",
      "Epoch 278/500\n",
      "12/12 [==============================] - 0s 15ms/step - loss: 0.0236 - accuracy: 0.9925 - val_loss: 0.0451 - val_accuracy: 0.9897 - lr: 1.2500e-04\n",
      "Epoch 279/500\n",
      "12/12 [==============================] - 0s 15ms/step - loss: 0.0237 - accuracy: 0.9924 - val_loss: 0.0454 - val_accuracy: 0.9894 - lr: 1.2500e-04\n",
      "Epoch 280/500\n",
      "12/12 [==============================] - 0s 15ms/step - loss: 0.0236 - accuracy: 0.9924 - val_loss: 0.0451 - val_accuracy: 0.9893 - lr: 1.2500e-04\n",
      "Epoch 281/500\n",
      "12/12 [==============================] - 0s 15ms/step - loss: 0.0236 - accuracy: 0.9925 - val_loss: 0.0446 - val_accuracy: 0.9893 - lr: 1.2500e-04\n",
      "Epoch 282/500\n",
      "12/12 [==============================] - 0s 15ms/step - loss: 0.0236 - accuracy: 0.9924 - val_loss: 0.0449 - val_accuracy: 0.9893 - lr: 1.2500e-04\n",
      "Epoch 283/500\n",
      "12/12 [==============================] - 0s 15ms/step - loss: 0.0235 - accuracy: 0.9925 - val_loss: 0.0449 - val_accuracy: 0.9893 - lr: 1.2500e-04\n",
      "Epoch 284/500\n",
      "12/12 [==============================] - 0s 14ms/step - loss: 0.0234 - accuracy: 0.9925 - val_loss: 0.0448 - val_accuracy: 0.9897 - lr: 1.2500e-04\n",
      "Epoch 285/500\n",
      "12/12 [==============================] - 0s 15ms/step - loss: 0.0235 - accuracy: 0.9924 - val_loss: 0.0450 - val_accuracy: 0.9894 - lr: 1.2500e-04\n",
      "Epoch 286/500\n",
      "12/12 [==============================] - 0s 15ms/step - loss: 0.0236 - accuracy: 0.9924 - val_loss: 0.0447 - val_accuracy: 0.9891 - lr: 1.2500e-04\n",
      "Epoch 287/500\n",
      "12/12 [==============================] - 0s 15ms/step - loss: 0.0236 - accuracy: 0.9923 - val_loss: 0.0451 - val_accuracy: 0.9893 - lr: 1.2500e-04\n",
      "Epoch 288/500\n",
      "12/12 [==============================] - 0s 14ms/step - loss: 0.0236 - accuracy: 0.9925 - val_loss: 0.0449 - val_accuracy: 0.9895 - lr: 1.2500e-04\n",
      "Epoch 289/500\n",
      "12/12 [==============================] - 0s 15ms/step - loss: 0.0236 - accuracy: 0.9923 - val_loss: 0.0451 - val_accuracy: 0.9894 - lr: 1.2500e-04\n",
      "Epoch 290/500\n",
      "12/12 [==============================] - 0s 15ms/step - loss: 0.0234 - accuracy: 0.9925 - val_loss: 0.0449 - val_accuracy: 0.9891 - lr: 1.2500e-04\n",
      "Epoch 291/500\n",
      "12/12 [==============================] - 0s 14ms/step - loss: 0.0235 - accuracy: 0.9924 - val_loss: 0.0448 - val_accuracy: 0.9891 - lr: 1.2500e-04\n",
      "Epoch 292/500\n",
      "12/12 [==============================] - 0s 15ms/step - loss: 0.0235 - accuracy: 0.9926 - val_loss: 0.0447 - val_accuracy: 0.9893 - lr: 1.2500e-04\n",
      "Epoch 293/500\n",
      "12/12 [==============================] - 0s 14ms/step - loss: 0.0233 - accuracy: 0.9926 - val_loss: 0.0449 - val_accuracy: 0.9891 - lr: 1.2500e-04\n",
      "Epoch 294/500\n",
      "12/12 [==============================] - 0s 15ms/step - loss: 0.0234 - accuracy: 0.9926 - val_loss: 0.0449 - val_accuracy: 0.9891 - lr: 1.2500e-04\n",
      "Epoch 295/500\n",
      "12/12 [==============================] - 0s 15ms/step - loss: 0.0235 - accuracy: 0.9924 - val_loss: 0.0449 - val_accuracy: 0.9890 - lr: 1.2500e-04\n",
      "Epoch 296/500\n",
      "12/12 [==============================] - 0s 15ms/step - loss: 0.0234 - accuracy: 0.9924 - val_loss: 0.0449 - val_accuracy: 0.9892 - lr: 1.2500e-04\n",
      "Epoch 297/500\n",
      "12/12 [==============================] - 0s 15ms/step - loss: 0.0234 - accuracy: 0.9925 - val_loss: 0.0449 - val_accuracy: 0.9895 - lr: 1.2500e-04\n",
      "Epoch 298/500\n",
      "12/12 [==============================] - 0s 15ms/step - loss: 0.0234 - accuracy: 0.9925 - val_loss: 0.0449 - val_accuracy: 0.9893 - lr: 1.2500e-04\n",
      "Epoch 299/500\n",
      "12/12 [==============================] - 0s 15ms/step - loss: 0.0234 - accuracy: 0.9926 - val_loss: 0.0451 - val_accuracy: 0.9897 - lr: 1.2500e-04\n",
      "Epoch 300/500\n",
      "12/12 [==============================] - 0s 15ms/step - loss: 0.0234 - accuracy: 0.9926 - val_loss: 0.0449 - val_accuracy: 0.9890 - lr: 1.2500e-04\n",
      "Epoch 301/500\n",
      "12/12 [==============================] - 0s 15ms/step - loss: 0.0234 - accuracy: 0.9923 - val_loss: 0.0448 - val_accuracy: 0.9897 - lr: 1.2500e-04\n",
      "Epoch 302/500\n",
      "12/12 [==============================] - 0s 15ms/step - loss: 0.0235 - accuracy: 0.9924 - val_loss: 0.0450 - val_accuracy: 0.9894 - lr: 1.2500e-04\n",
      "Epoch 303/500\n",
      "12/12 [==============================] - 0s 15ms/step - loss: 0.0234 - accuracy: 0.9927 - val_loss: 0.0449 - val_accuracy: 0.9890 - lr: 1.2500e-04\n",
      "Epoch 304/500\n",
      "12/12 [==============================] - 0s 15ms/step - loss: 0.0233 - accuracy: 0.9924 - val_loss: 0.0448 - val_accuracy: 0.9894 - lr: 6.2500e-05\n",
      "Epoch 305/500\n",
      "12/12 [==============================] - 0s 15ms/step - loss: 0.0232 - accuracy: 0.9926 - val_loss: 0.0448 - val_accuracy: 0.9892 - lr: 6.2500e-05\n",
      "Epoch 306/500\n",
      "12/12 [==============================] - 0s 15ms/step - loss: 0.0232 - accuracy: 0.9926 - val_loss: 0.0448 - val_accuracy: 0.9895 - lr: 6.2500e-05\n",
      "Epoch 307/500\n",
      "12/12 [==============================] - 0s 15ms/step - loss: 0.0232 - accuracy: 0.9927 - val_loss: 0.0449 - val_accuracy: 0.9892 - lr: 6.2500e-05\n",
      "Epoch 308/500\n",
      "12/12 [==============================] - 0s 15ms/step - loss: 0.0232 - accuracy: 0.9925 - val_loss: 0.0448 - val_accuracy: 0.9892 - lr: 6.2500e-05\n",
      "Epoch 309/500\n",
      "12/12 [==============================] - 0s 16ms/step - loss: 0.0231 - accuracy: 0.9925 - val_loss: 0.0449 - val_accuracy: 0.9896 - lr: 6.2500e-05\n",
      "Epoch 310/500\n",
      "12/12 [==============================] - 0s 15ms/step - loss: 0.0231 - accuracy: 0.9927 - val_loss: 0.0448 - val_accuracy: 0.9892 - lr: 6.2500e-05\n",
      "Epoch 311/500\n",
      "10/12 [========================>.....] - ETA: 0s - loss: 0.0229 - accuracy: 0.9926Restoring model weights from the end of the best epoch: 281.\n",
      "12/12 [==============================] - 0s 15ms/step - loss: 0.0231 - accuracy: 0.9927 - val_loss: 0.0447 - val_accuracy: 0.9895 - lr: 6.2500e-05\n",
      "Epoch 311: early stopping\n"
     ]
    },
    {
     "name": "stdout",
     "output_type": "stream",
     "text": [
      "55.74 s\n"
     ]
    }
   ],
   "source": [
    "histories_v1, models_v1 = train_models(model_v1, X_train, Y_train, X_val, Y_val, \"model v1\", batch_size=8192, n_epochs=500, train=True, lr_start=0.001, lr_patience=10, verbose=1)"
   ]
  },
  {
   "cell_type": "code",
   "execution_count": 91,
   "id": "6a8910ba",
   "metadata": {},
   "outputs": [
    {
     "data": {
      "text/plain": [
       "<Figure size 864x576 with 0 Axes>"
      ]
     },
     "metadata": {},
     "output_type": "display_data"
    },
    {
     "data": {
      "image/png": "[encoded data removed]",
      "text/plain": [
       "<Figure size 432x288 with 1 Axes>"
      ]
     },
     "metadata": {
      "needs_background": "light"
     },
     "output_type": "display_data"
    },
    {
     "data": {
      "image/png": "[encoded data removed]",
      "text/plain": [
       "<Figure size 432x288 with 1 Axes>"
      ]
     },
     "metadata": {
      "needs_background": "light"
     },
     "output_type": "display_data"
    }
   ],
   "source": [
    "plot_histories(histories_v1, \"model v1\", 0.1)"
   ]
  },
  {
   "cell_type": "code",
   "execution_count": 93,
   "id": "5750171b",
   "metadata": {},
   "outputs": [
    {
     "data": {
      "text/plain": [
       "(29704, 5)"
      ]
     },
     "execution_count": 93,
     "metadata": {},
     "output_type": "execute_result"
    }
   ],
   "source": [
    "Y_test.shape"
   ]
  },
  {
   "cell_type": "code",
   "execution_count": 94,
   "id": "c6d37585",
   "metadata": {},
   "outputs": [
    {
     "data": {
      "text/plain": [
       "(95050, 5)"
      ]
     },
     "execution_count": 94,
     "metadata": {},
     "output_type": "execute_result"
    }
   ],
   "source": [
    "Y_train.shape"
   ]
  },
  {
   "cell_type": "code",
   "execution_count": 179,
   "id": "b589d79f",
   "metadata": {},
   "outputs": [
    {
     "name": "stderr",
     "output_type": "stream",
     "text": [
      "2022-06-05 19:42:47.283307: I tensorflow/core/grappler/optimizers/custom_graph_optimizer_registry.cc:113] Plugin optimizer for device_type GPU is enabled.\n"
     ]
    }
   ],
   "source": [
    "predictions = models_v1[0].predict(X_test)"
   ]
  },
  {
   "cell_type": "code",
   "execution_count": 180,
   "id": "bbe41d45",
   "metadata": {},
   "outputs": [
    {
     "data": {
      "text/plain": [
       "Text(33.0, 0.5, 'True')"
      ]
     },
     "execution_count": 180,
     "metadata": {},
     "output_type": "execute_result"
    },
    {
     "data": {
      "image/png": "[encoded data removed]",
      "text/plain": [
       "<Figure size 432x288 with 2 Axes>"
      ]
     },
     "metadata": {
      "needs_background": "light"
     },
     "output_type": "display_data"
    }
   ],
   "source": [
    "sns.heatmap(confusion_matrix(np.argmax(predictions, axis=1), np.argmax(Y_test, axis=1)), annot=True, fmt=\"d\", xticklabels=attack_classes, yticklabels=attack_classes)\n",
    "plt.xlabel(\"Predicted\")\n",
    "plt.ylabel(\"True\")"
   ]
  },
  {
   "cell_type": "code",
   "execution_count": 134,
   "id": "57652cd4",
   "metadata": {},
   "outputs": [],
   "source": [
    "(_, _, Y_train, Y_test), attack_classes = load_train_test_data(pwd=pwd, return_classes=True, standardize=True, norm=False, \n",
    "                                                               include_categorical=True, group_y=False)"
   ]
  },
  {
   "cell_type": "code",
   "execution_count": 150,
   "id": "fbf47b39",
   "metadata": {},
   "outputs": [],
   "source": [
    "data_labels_train = np.argmax(Y_train, axis=1)"
   ]
  },
  {
   "cell_type": "code",
   "execution_count": 151,
   "id": "e56e0e3d",
   "metadata": {},
   "outputs": [
    {
     "data": {
      "text/plain": [
       "array([16, 16, 14, ..., 16, 14, 16])"
      ]
     },
     "execution_count": 151,
     "metadata": {},
     "output_type": "execute_result"
    }
   ],
   "source": [
    "data_labels_train"
   ]
  },
  {
   "cell_type": "code",
   "execution_count": 154,
   "id": "ced9d9fb",
   "metadata": {},
   "outputs": [],
   "source": [
    "data_classes_train = np.array([attack_classes[y] for y in data_labels_train])"
   ]
  },
  {
   "cell_type": "code",
   "execution_count": 155,
   "id": "a6ee17e8",
   "metadata": {},
   "outputs": [
    {
     "data": {
      "text/plain": [
       "array(['normal', 'normal', 'neptune', ..., 'normal', 'neptune', 'normal'],\n",
       "      dtype='<U15')"
      ]
     },
     "execution_count": 155,
     "metadata": {},
     "output_type": "execute_result"
    }
   ],
   "source": [
    "data_classes_train"
   ]
  },
  {
   "cell_type": "code",
   "execution_count": 156,
   "id": "6f19ebd2",
   "metadata": {},
   "outputs": [
    {
     "name": "stdout",
     "output_type": "stream",
     "text": [
      "Counter({'normal': 67343, 'neptune': 41214, 'satan': 3633, 'ipsweep': 3599, 'portsweep': 2931, 'smurf': 2646, 'nmap': 1493, 'back': 956, 'teardrop': 892, 'warezclient': 890, 'pod': 201, 'guess_passwd': 53, 'buffer_overflow': 30, 'warezmaster': 20, 'land': 18, 'imap': 11, 'rootkit': 10, 'loadmodule': 9, 'ftp_write': 8, 'multihop': 7, 'phf': 4, 'perl': 3, 'spy': 2})\n"
     ]
    }
   ],
   "source": [
    "print(Counter(data_classes_train))"
   ]
  },
  {
   "cell_type": "code",
   "execution_count": 162,
   "id": "0d2f19ee",
   "metadata": {},
   "outputs": [],
   "source": [
    "data_labels_test = np.argmax(Y_test, axis=1)"
   ]
  },
  {
   "cell_type": "code",
   "execution_count": 163,
   "id": "c902e90f",
   "metadata": {},
   "outputs": [
    {
     "data": {
      "text/plain": [
       "array([14, 14, 16, ...,  1, 16, 11])"
      ]
     },
     "execution_count": 163,
     "metadata": {},
     "output_type": "execute_result"
    }
   ],
   "source": [
    "data_labels_test"
   ]
  },
  {
   "cell_type": "code",
   "execution_count": 164,
   "id": "ce362d1f",
   "metadata": {},
   "outputs": [],
   "source": [
    "data_classes_test = np.array([attack_classes[y] for y in data_labels_test])"
   ]
  },
  {
   "cell_type": "code",
   "execution_count": 165,
   "id": "62fb4366",
   "metadata": {},
   "outputs": [
    {
     "data": {
      "text/plain": [
       "array(['neptune', 'neptune', 'normal', ..., 'back', 'normal', 'mscan'],\n",
       "      dtype='<U15')"
      ]
     },
     "execution_count": 165,
     "metadata": {},
     "output_type": "execute_result"
    }
   ],
   "source": [
    "data_classes_test"
   ]
  },
  {
   "cell_type": "code",
   "execution_count": 166,
   "id": "ad4fb639",
   "metadata": {},
   "outputs": [
    {
     "name": "stdout",
     "output_type": "stream",
     "text": [
      "Counter({'normal': 9711, 'neptune': 4657, 'guess_passwd': 1231, 'mscan': 996, 'warezmaster': 944, 'apache2': 737, 'satan': 735, 'processtable': 685, 'smurf': 665, 'back': 359, 'snmpguess': 331, 'saint': 319, 'mailbomb': 293, 'snmpgetattack': 178, 'portsweep': 157, 'ipsweep': 141, 'httptunnel': 133, 'nmap': 73, 'pod': 41, 'buffer_overflow': 20, 'multihop': 18, 'named': 17, 'ps': 15, 'sendmail': 14, 'xterm': 13, 'rootkit': 13, 'teardrop': 12, 'xlock': 9, 'land': 7, 'xsnoop': 4, 'ftp_write': 3, 'loadmodule': 2, 'worm': 2, 'perl': 2, 'sqlattack': 2, 'udpstorm': 2, 'phf': 2, 'imap': 1})\n"
     ]
    }
   ],
   "source": [
    "print(Counter(data_classes_test))"
   ]
  },
  {
   "cell_type": "code",
   "execution_count": 178,
   "id": "3046b754",
   "metadata": {},
   "outputs": [
    {
     "name": "stdout",
     "output_type": "stream",
     "text": [
      "Epoch 1/10\n",
      " 1/12 [=>............................] - ETA: 3s - loss: 1.6109 - accuracy: 0.4114"
     ]
    },
    {
     "name": "stderr",
     "output_type": "stream",
     "text": [
      "2022-06-05 19:37:32.252195: I tensorflow/core/grappler/optimizers/custom_graph_optimizer_registry.cc:113] Plugin optimizer for device_type GPU is enabled.\n"
     ]
    },
    {
     "name": "stdout",
     "output_type": "stream",
     "text": [
      "12/12 [==============================] - 1s 27ms/step - loss: 1.2586 - accuracy: 0.7785 - val_loss: 0.8357 - val_accuracy: 0.8573 - lr: 0.0010\n",
      "Epoch 2/10\n",
      " 4/12 [=========>....................] - ETA: 0s - loss: 0.7507 - accuracy: 0.8591"
     ]
    },
    {
     "name": "stderr",
     "output_type": "stream",
     "text": [
      "2022-06-05 19:37:32.652142: I tensorflow/core/grappler/optimizers/custom_graph_optimizer_registry.cc:113] Plugin optimizer for device_type GPU is enabled.\n"
     ]
    },
    {
     "name": "stdout",
     "output_type": "stream",
     "text": [
      "12/12 [==============================] - 0s 18ms/step - loss: 0.6086 - accuracy: 0.8576 - val_loss: 0.4472 - val_accuracy: 0.8486 - lr: 0.0010\n",
      "Epoch 3/10\n",
      "12/12 [==============================] - 0s 15ms/step - loss: 0.4002 - accuracy: 0.8774 - val_loss: 0.3465 - val_accuracy: 0.8920 - lr: 0.0010\n",
      "Epoch 4/10\n",
      "12/12 [==============================] - 0s 15ms/step - loss: 0.3208 - accuracy: 0.9009 - val_loss: 0.2917 - val_accuracy: 0.9128 - lr: 0.0010\n",
      "Epoch 5/10\n",
      "12/12 [==============================] - 0s 16ms/step - loss: 0.2777 - accuracy: 0.9193 - val_loss: 0.2588 - val_accuracy: 0.9314 - lr: 0.0010\n",
      "Epoch 6/10\n",
      "12/12 [==============================] - 0s 15ms/step - loss: 0.2462 - accuracy: 0.9343 - val_loss: 0.2343 - val_accuracy: 0.9367 - lr: 0.0010\n",
      "Epoch 7/10\n",
      "12/12 [==============================] - 0s 15ms/step - loss: 0.2229 - accuracy: 0.9373 - val_loss: 0.2141 - val_accuracy: 0.9377 - lr: 0.0010\n",
      "Epoch 8/10\n",
      "12/12 [==============================] - 0s 15ms/step - loss: 0.2045 - accuracy: 0.9395 - val_loss: 0.1979 - val_accuracy: 0.9432 - lr: 0.0010\n",
      "Epoch 9/10\n",
      "12/12 [==============================] - 0s 17ms/step - loss: 0.1897 - accuracy: 0.9427 - val_loss: 0.1853 - val_accuracy: 0.9434 - lr: 0.0010\n",
      "Epoch 10/10\n",
      "12/12 [==============================] - 0s 15ms/step - loss: 0.1778 - accuracy: 0.9468 - val_loss: 0.1743 - val_accuracy: 0.9461 - lr: 0.0010\n",
      "2.35 s\n"
     ]
    }
   ],
   "source": [
    "histories_vx, models_vx = train_models(model_v1, X_train, Y_train, X_val, Y_val, \"model v1\", batch_size=8192, n_epochs=10, train=True, lr_start=0.001, lr_patience=10, verbose=1)"
   ]
  },
  {
   "cell_type": "code",
   "execution_count": null,
   "id": "efa974f0",
   "metadata": {},
   "outputs": [],
   "source": []
  }
 ],
 "metadata": {
  "kernelspec": {
   "display_name": "Python 3 (ipykernel)",
   "language": "python",
   "name": "python3"
  },
  "language_info": {
   "codemirror_mode": {
    "name": "ipython",
    "version": 3
   },
   "file_extension": ".py",
   "mimetype": "text/x-python",
   "name": "python",
   "nbconvert_exporter": "python",
   "pygments_lexer": "ipython3",
   "version": "3.8.12"
  }
 },
 "nbformat": 4,
 "nbformat_minor": 5
}
