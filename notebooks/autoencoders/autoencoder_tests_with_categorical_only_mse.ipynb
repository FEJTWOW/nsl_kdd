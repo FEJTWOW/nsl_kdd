{
 "cells": [
  {
   "cell_type": "code",
   "execution_count": 1,
   "id": "0b87c900-44e5-4435-a64d-772ac677e43f",
   "metadata": {},
   "outputs": [],
   "source": [
    "# Set project directory\n",
    "import os\n",
    "import sys\n",
    "\n",
    "def project_dir():\n",
    "    notebook_path = %pwd\n",
    "    repo_name = \"nsl_kdd\"\n",
    "    repo_folder = notebook_path.split(repo_name)[0]\n",
    "    return os.path.join(repo_folder, repo_name)\n",
    "\n",
    "pwd = os.getenv(\"PWD\", project_dir())\n",
    "os.environ[\"PWD\"] = pwd\n",
    "sys.path.append(pwd)"
   ]
  },
  {
   "cell_type": "code",
   "execution_count": 2,
   "id": "cd828b92-ee29-4585-ac28-fe2be053b3f9",
   "metadata": {},
   "outputs": [],
   "source": [
    "import pandas as pd\n",
    "from matplotlib import pyplot as plt\n",
    "import numpy as np\n",
    "\n",
    "import tensorflow as tf\n",
    "from tensorflow.keras import layers as k_layers\n",
    "from tensorflow.keras import optimizers as k_optimizers\n",
    "from tensorflow.keras import callbacks as k_callbacks\n",
    "\n",
    "from sklearn.decomposition import PCA\n",
    "\n",
    "import time\n",
    "\n",
    "from data_utils import load_train_test_data"
   ]
  },
  {
   "cell_type": "markdown",
   "id": "49092d99-bafb-4073-9614-c0ed37e064d3",
   "metadata": {},
   "source": [
    "# Load data"
   ]
  },
  {
   "cell_type": "code",
   "execution_count": 3,
   "id": "0e1d149a-3cb4-494c-bd74-08c94ae0090a",
   "metadata": {},
   "outputs": [],
   "source": [
    "(X_train, X_test, Y_train, Y_test), attack_labels = load_train_test_data(pwd=pwd, include_categorical=True)"
   ]
  },
  {
   "cell_type": "code",
   "execution_count": 4,
   "id": "0532991e-bd32-43ab-8c93-93e4f9f98967",
   "metadata": {},
   "outputs": [
    {
     "data": {
      "text/plain": [
       "((148517, 122), (148517, 5))"
      ]
     },
     "execution_count": 4,
     "metadata": {},
     "output_type": "execute_result"
    }
   ],
   "source": [
    "X = np.vstack([X_train, X_test])\n",
    "Y = np.vstack([Y_train, Y_test])\n",
    "\n",
    "X.shape, Y.shape"
   ]
  },
  {
   "cell_type": "code",
   "execution_count": 5,
   "id": "6c7b2a23-9d72-40a3-ae6a-94a270bdb3b2",
   "metadata": {},
   "outputs": [
    {
     "data": {
      "text/plain": [
       "array(['DoS', 'Probe', 'R2L', 'U2R', 'normal'], dtype='<U6')"
      ]
     },
     "execution_count": 5,
     "metadata": {},
     "output_type": "execute_result"
    }
   ],
   "source": [
    "attack_labels"
   ]
  },
  {
   "cell_type": "markdown",
   "id": "e2760f03-f460-4214-b37c-fdd8ce0607b3",
   "metadata": {},
   "source": [
    "# Utils"
   ]
  },
  {
   "cell_type": "code",
   "execution_count": 6,
   "id": "aff24622-3102-4414-b92c-49ba550e91b3",
   "metadata": {},
   "outputs": [],
   "source": [
    "def fit_model(create_model, X_train, bottleneck=10, batch_size=4096, n_epochs=100, lr_start=0.001, lr_patience=None):\n",
    "    model = create_model(bottleneck, lr_start)\n",
    "    \n",
    "    callbacks = []\n",
    "    if lr_patience is not None:\n",
    "        callbacks.append(k_callbacks.ReduceLROnPlateau(monitor='loss', factor=0.5, patience=lr_patience))\n",
    "        \n",
    "    history = model.fit(X_train, X_train, batch_size=batch_size, epochs=n_epochs, callbacks=callbacks).history\n",
    "    \n",
    "    return history, model\n",
    "\n",
    "def plot_history(history, title, ymax=None):\n",
    "    plt.figure(figsize=(10, 7))\n",
    "    \n",
    "    X = np.arange(1, len(history['loss']) + 1)\n",
    "    \n",
    "    plt.plot(X, history['loss'], label='train')\n",
    "    \n",
    "    if ymax is not None:\n",
    "        plt.ylim(0, ymax)\n",
    "\n",
    "    plt.title(f\"loss ({history[f'loss'][-1]:0.4f})\")\n",
    "    plt.grid()\n",
    "    plt.legend()\n",
    "        \n",
    "    plt.suptitle(title)\n",
    "    plt.show()"
   ]
  },
  {
   "cell_type": "code",
   "execution_count": 7,
   "id": "c14ba7e4-bb89-4453-a70d-9b57aa56cd3e",
   "metadata": {},
   "outputs": [],
   "source": [
    "def run_and_measure(fun, *args, **kwargs):\n",
    "    start = time.time()\n",
    "    retval = fun(*args, **kwargs)\n",
    "    end = time.time()\n",
    "    return retval, end - start\n",
    "\n",
    "def test_autoencoder(create_model, X, n_bottleneck_list, name, batch_size=8192, n_epochs=50, train=True, lr_start=0.001, lr_patience=None, verbose=0):\n",
    "    histories = {}\n",
    "    models = {}\n",
    "\n",
    "    for n_bottleneck in n_bottleneck_list:\n",
    "        print(f\"Starting {n_bottleneck}... \", end=\"\")\n",
    "\n",
    "        autoencoder_model = create_model(n_bottleneck, lr=lr_start)\n",
    "        models[n_bottleneck] = autoencoder_model\n",
    "\n",
    "        if train:\n",
    "            callbacks = []\n",
    "            if lr_patience is not None:\n",
    "                callbacks.append(tf.keras.callbacks.ReduceLROnPlateau(monitor=\"loss\", factor=0.5, patience=lr_patience, min_delta=0.00005))\n",
    "\n",
    "            history, t = run_and_measure(autoencoder_model.fit, X, X, batch_size=batch_size, verbose=verbose, epochs=n_epochs, callbacks=callbacks)\n",
    "            print(f\"{t:0.2f} s\")\n",
    "            history = history.history\n",
    "        #     autoencoder_model.save_weights(\n",
    "        #         f\"model_checkpoints/{name}/{n_bottleneck}/weights\"\n",
    "        #     )\n",
    "        #     pd.DataFrame(history).to_csv(\n",
    "        #         f\"model_checkpoints/{name}/{n_bottleneck}/log.csv\"\n",
    "        #     )\n",
    "        # else:\n",
    "        #     history = pd.read_csv(f\"model_checkpoints/{name}/{n_bottleneck}/log.csv\")\n",
    "        #     autoencoder_model.load_weights(\n",
    "        #         f\"model_checkpoints/{name}/{n_bottleneck}/weights\"\n",
    "        #     )\n",
    "        #     print()\n",
    "\n",
    "        histories[n_bottleneck] = history\n",
    "\n",
    "    return histories, models\n",
    "\n",
    "def plot_histories(histories, title, ymax=1, print_mse=True):\n",
    "    plt.figure(figsize=(12, 8))\n",
    "\n",
    "    for n_bottleneck, history in histories.items():\n",
    "        plt.plot(np.arange(1, len(history[\"loss\"]) + 1), history[\"loss\"], label=f\"{n_bottleneck}\")\n",
    "\n",
    "    plt.ylim(0, ymax)\n",
    "    plt.title(title)\n",
    "    plt.legend()\n",
    "    plt.grid()\n",
    "    plt.show()\n",
    "\n",
    "    for n_bottleneck, history in histories.items():\n",
    "        print(f\"n_bottleneck={n_bottleneck:2}: mse={min(history['loss']):0.6f}\")"
   ]
  },
  {
   "cell_type": "markdown",
   "id": "61385aec-98a3-45e1-8ba0-48a44d7c688c",
   "metadata": {},
   "source": [
    "# PCA"
   ]
  },
  {
   "cell_type": "code",
   "execution_count": 8,
   "id": "035626bd-05e3-404d-8e0d-024b2f53296f",
   "metadata": {},
   "outputs": [],
   "source": [
    "pca = PCA()\n",
    "X_pca = pca.fit_transform(X)"
   ]
  },
  {
   "cell_type": "code",
   "execution_count": 9,
   "id": "ba35da42-37c5-454c-93d1-952323cf9545",
   "metadata": {},
   "outputs": [
    {
     "data": {
      "image/png": "[encoded data removed]",
      "text/plain": [
       "<Figure size 720x432 with 1 Axes>"
      ]
     },
     "metadata": {
      "needs_background": "light"
     },
     "output_type": "display_data"
    }
   ],
   "source": [
    "plt.figure(figsize=(10, 6))\n",
    "plt.bar(\n",
    "    np.arange(1, pca.explained_variance_ratio_.shape[0] + 1),\n",
    "    pca.explained_variance_ratio_.cumsum(),\n",
    ")\n",
    "plt.title(\"Explained variance ratio - cumsum\")\n",
    "plt.show()"
   ]
  },
  {
   "cell_type": "code",
   "execution_count": 13,
   "id": "5925016b-b6d7-4857-be8b-df41e04a2f79",
   "metadata": {
    "scrolled": true,
    "tags": []
   },
   "outputs": [
    {
     "name": "stdout",
     "output_type": "stream",
     "text": [
      "First  1 components: mse=0.258387\n",
      "First  2 components: mse=0.217487\n",
      "First  3 components: mse=0.194207\n",
      "First  4 components: mse=0.177882\n",
      "First  5 components: mse=0.162371\n",
      "First  6 components: mse=0.147787\n",
      "First  7 components: mse=0.137113\n",
      "First  8 components: mse=0.126886\n",
      "First  9 components: mse=0.117586\n",
      "First 10 components: mse=0.108805\n",
      "First 11 components: mse=0.100386\n",
      "First 12 components: mse=0.092183\n",
      "First 13 components: mse=0.084040\n",
      "First 14 components: mse=0.075913\n",
      "First 15 components: mse=0.067805\n",
      "First 16 components: mse=0.059741\n",
      "First 17 components: mse=0.052046\n",
      "First 18 components: mse=0.044527\n",
      "First 19 components: mse=0.038523\n",
      "First 20 components: mse=0.033470\n",
      "First 21 components: mse=0.028731\n",
      "First 22 components: mse=0.024679\n",
      "First 23 components: mse=0.021077\n",
      "First 24 components: mse=0.017598\n",
      "First 25 components: mse=0.014583\n",
      "First 26 components: mse=0.011858\n",
      "First 27 components: mse=0.010045\n",
      "First 28 components: mse=0.008417\n",
      "First 29 components: mse=0.007426\n",
      "First 30 components: mse=0.006551\n",
      "First 31 components: mse=0.005905\n",
      "First 32 components: mse=0.005329\n",
      "First 33 components: mse=0.004847\n",
      "First 34 components: mse=0.004409\n",
      "First 35 components: mse=0.004006\n",
      "First 36 components: mse=0.003628\n",
      "First 37 components: mse=0.003292\n",
      "First 38 components: mse=0.003020\n",
      "First 39 components: mse=0.002794\n",
      "First 40 components: mse=0.002578\n",
      "First 41 components: mse=0.002391\n",
      "First 42 components: mse=0.002231\n",
      "First 43 components: mse=0.002106\n",
      "First 44 components: mse=0.001994\n",
      "First 45 components: mse=0.001882\n",
      "First 46 components: mse=0.001789\n",
      "First 47 components: mse=0.001703\n",
      "First 48 components: mse=0.001620\n",
      "First 49 components: mse=0.001540\n",
      "First 50 components: mse=0.001484\n",
      "First 51 components: mse=0.001431\n",
      "First 52 components: mse=0.001382\n",
      "First 53 components: mse=0.001337\n",
      "First 54 components: mse=0.001293\n",
      "First 55 components: mse=0.001250\n",
      "First 56 components: mse=0.001209\n",
      "First 57 components: mse=0.001167\n",
      "First 58 components: mse=0.001127\n",
      "First 59 components: mse=0.001086\n",
      "First 60 components: mse=0.001046\n",
      "First 61 components: mse=0.001006\n",
      "First 62 components: mse=0.000968\n",
      "First 63 components: mse=0.000929\n",
      "First 64 components: mse=0.000893\n",
      "First 65 components: mse=0.000857\n",
      "First 66 components: mse=0.000822\n",
      "First 67 components: mse=0.000788\n",
      "First 68 components: mse=0.000755\n",
      "First 69 components: mse=0.000724\n",
      "First 70 components: mse=0.000692\n",
      "First 71 components: mse=0.000661\n",
      "First 72 components: mse=0.000631\n",
      "First 73 components: mse=0.000601\n",
      "First 74 components: mse=0.000571\n",
      "First 75 components: mse=0.000542\n",
      "First 76 components: mse=0.000514\n",
      "First 77 components: mse=0.000486\n",
      "First 78 components: mse=0.000458\n",
      "First 79 components: mse=0.000431\n",
      "First 80 components: mse=0.000404\n",
      "First 81 components: mse=0.000378\n",
      "First 82 components: mse=0.000353\n",
      "First 83 components: mse=0.000328\n",
      "First 84 components: mse=0.000303\n",
      "First 85 components: mse=0.000279\n",
      "First 86 components: mse=0.000255\n",
      "First 87 components: mse=0.000234\n",
      "First 88 components: mse=0.000213\n",
      "First 89 components: mse=0.000192\n",
      "First 90 components: mse=0.000173\n",
      "First 91 components: mse=0.000155\n",
      "First 92 components: mse=0.000137\n",
      "First 93 components: mse=0.000119\n",
      "First 94 components: mse=0.000104\n",
      "First 95 components: mse=0.000090\n",
      "First 96 components: mse=0.000079\n",
      "First 97 components: mse=0.000069\n",
      "First 98 components: mse=0.000059\n",
      "First 99 components: mse=0.000050\n",
      "First 100 components: mse=0.000042\n",
      "First 101 components: mse=0.000036\n",
      "First 102 components: mse=0.000031\n",
      "First 103 components: mse=0.000026\n",
      "First 104 components: mse=0.000021\n",
      "First 105 components: mse=0.000016\n",
      "First 106 components: mse=0.000011\n",
      "First 107 components: mse=0.000007\n",
      "First 108 components: mse=0.000004\n",
      "First 109 components: mse=0.000003\n",
      "First 110 components: mse=0.000002\n",
      "First 111 components: mse=0.000001\n",
      "First 112 components: mse=0.000001\n",
      "First 113 components: mse=0.000000\n",
      "First 114 components: mse=0.000000\n",
      "First 115 components: mse=0.000000\n",
      "First 116 components: mse=0.000000\n",
      "First 117 components: mse=0.000000\n",
      "First 118 components: mse=0.000000\n",
      "First 119 components: mse=0.000000\n",
      "First 120 components: mse=0.000000\n",
      "First 121 components: mse=0.000000\n"
     ]
    }
   ],
   "source": [
    "from sklearn.metrics import mean_squared_error\n",
    "\n",
    "for i in range(1, 122):\n",
    "    X_tmp = X_pca[:, :i] @ pca.components_[:i] + pca.mean_\n",
    "    mse = mean_squared_error(X, X_tmp)\n",
    "    print(f\"First {i:2} components: mse={mse:0.6f}\")"
   ]
  },
  {
   "cell_type": "markdown",
   "id": "31d71d3f-2bc2-44d7-b848-ad83aa840d4a",
   "metadata": {},
   "source": [
    "# Model v1"
   ]
  },
  {
   "cell_type": "code",
   "execution_count": 14,
   "id": "4f289bea-f159-4bfc-8036-f061fc921567",
   "metadata": {},
   "outputs": [],
   "source": [
    "def create_model_v1(bottleneck=10, lr=0.001):\n",
    "    model = tf.keras.Sequential([\n",
    "        k_layers.Input(122),\n",
    "        \n",
    "        k_layers.Dense(bottleneck),\n",
    "        \n",
    "        k_layers.Dense(122)\n",
    "    ])\n",
    "    \n",
    "    model.compile(\n",
    "        k_optimizers.Adam(learning_rate=lr), loss='mse'\n",
    "    )\n",
    "    \n",
    "    return model\n",
    "\n",
    "# create_model_v1().summary()"
   ]
  },
  {
   "cell_type": "code",
   "execution_count": 15,
   "id": "d3478a95-b15c-4270-99f0-c4ecc96027fb",
   "metadata": {
    "scrolled": true,
    "tags": []
   },
   "outputs": [
    {
     "name": "stdout",
     "output_type": "stream",
     "text": [
      "Starting 2... 8.74 s\n",
      "Starting 4... 8.63 s\n",
      "Starting 8... 8.97 s\n",
      "Starting 16... 8.12 s\n"
     ]
    }
   ],
   "source": [
    "N_BOTTLENECK = [2, 4, 8, 16]\n",
    "histories_v1, models_v1 = test_autoencoder(create_model_v1, X, N_BOTTLENECK, 'model_v1', n_epochs=100, lr_start=0.004, lr_patience=20)"
   ]
  },
  {
   "cell_type": "code",
   "execution_count": 16,
   "id": "e48e43c5-808a-4d78-a889-34429e2eb29c",
   "metadata": {},
   "outputs": [
    {
     "data": {
      "image/png": "[encoded data removed]",
      "text/plain": [
       "<Figure size 864x576 with 1 Axes>"
      ]
     },
     "metadata": {
      "needs_background": "light"
     },
     "output_type": "display_data"
    },
    {
     "name": "stdout",
     "output_type": "stream",
     "text": [
      "n_bottleneck= 2: mse=0.217493\n",
      "n_bottleneck= 4: mse=0.177824\n",
      "n_bottleneck= 8: mse=0.127101\n",
      "n_bottleneck=16: mse=0.060011\n"
     ]
    }
   ],
   "source": [
    "plot_histories(histories_v1, \"Autoencoder v1\")"
   ]
  },
  {
   "cell_type": "markdown",
   "id": "0205783b-e904-42c8-9a85-49ca5ecee8ee",
   "metadata": {},
   "source": [
    "# Model v2"
   ]
  },
  {
   "cell_type": "code",
   "execution_count": 17,
   "id": "7c54dc30-e863-4898-aee5-9b24d25dcba5",
   "metadata": {},
   "outputs": [],
   "source": [
    "def create_model_v2(bottleneck=10, lr=0.001):\n",
    "    model = tf.keras.Sequential([\n",
    "        k_layers.Input(122),\n",
    "        \n",
    "        k_layers.Dense(30, activation='relu'),\n",
    "        k_layers.Dense(bottleneck), \n",
    "        k_layers.Dense(30, activation='relu'),\n",
    "        \n",
    "        k_layers.Dense(122)\n",
    "    ])\n",
    "    \n",
    "    model.compile(\n",
    "        k_optimizers.Adam(learning_rate=lr), loss='mse'\n",
    "    )\n",
    "    \n",
    "    return model\n",
    "\n",
    "# create_model_v2().summary()"
   ]
  },
  {
   "cell_type": "code",
   "execution_count": 18,
   "id": "a06202c7-b856-4e74-940c-c38e7638b96d",
   "metadata": {
    "scrolled": true,
    "tags": []
   },
   "outputs": [
    {
     "name": "stdout",
     "output_type": "stream",
     "text": [
      "Starting 2... 35.36 s\n",
      "Starting 4... 34.24 s\n",
      "Starting 8... 35.52 s\n",
      "Starting 16... 33.87 s\n"
     ]
    }
   ],
   "source": [
    "N_BOTTLENECK = [2, 4, 8, 16]\n",
    "histories_v2, models_v2 = test_autoencoder(create_model_v2, X, N_BOTTLENECK, 'model_v2', n_epochs=400, lr_start=0.002, lr_patience=20)"
   ]
  },
  {
   "cell_type": "code",
   "execution_count": 19,
   "id": "ad2bb943-8a2c-4565-9c98-26fbf5390fe5",
   "metadata": {},
   "outputs": [
    {
     "data": {
      "image/png": "[encoded data removed]",
      "text/plain": [
       "<Figure size 864x576 with 1 Axes>"
      ]
     },
     "metadata": {
      "needs_background": "light"
     },
     "output_type": "display_data"
    },
    {
     "name": "stdout",
     "output_type": "stream",
     "text": [
      "n_bottleneck= 2: mse=0.080710\n",
      "n_bottleneck= 4: mse=0.026797\n",
      "n_bottleneck= 8: mse=0.015351\n",
      "n_bottleneck=16: mse=0.007941\n"
     ]
    }
   ],
   "source": [
    "plot_histories(histories_v2, \"Autoencoder v2\", ymax=0.8)"
   ]
  },
  {
   "cell_type": "markdown",
   "id": "ffa2ab5d-ed47-47c6-a05f-e3b132f405bc",
   "metadata": {},
   "source": [
    "# Model v3"
   ]
  },
  {
   "cell_type": "code",
   "execution_count": 26,
   "id": "78c5e17c-cacb-4f0f-a8c4-7134a948affb",
   "metadata": {},
   "outputs": [],
   "source": [
    "def create_model_v3(bottelneck=10, lr=0.001):\n",
    "    model = tf.keras.Sequential([\n",
    "        k_layers.Input(122),\n",
    "        \n",
    "        k_layers.Dense(60, activation='relu'),\n",
    "        k_layers.Dense(60, activation='relu'),\n",
    "\n",
    "        k_layers.Dense(bottelneck),\n",
    "\n",
    "        k_layers.Dense(60, activation='relu'),\n",
    "        k_layers.Dense(60, activation='relu'),\n",
    "\n",
    "        k_layers.Dense(122)\n",
    "    ])\n",
    "    \n",
    "    model.compile(\n",
    "        k_optimizers.Adam(learning_rate=lr), loss='mse'\n",
    "    )\n",
    "    \n",
    "    return model\n",
    "    \n",
    "# create_model_v3().summary()"
   ]
  },
  {
   "cell_type": "code",
   "execution_count": 27,
   "id": "ebf98e9e-99fc-4da6-950e-b6abd4a799c6",
   "metadata": {},
   "outputs": [
    {
     "name": "stdout",
     "output_type": "stream",
     "text": [
      "Starting 2... 43.91 s\n",
      "Starting 4... 43.62 s\n",
      "Starting 8... 43.64 s\n",
      "Starting 16... 44.64 s\n"
     ]
    }
   ],
   "source": [
    "N_BOTTLENECK = [2, 4, 8, 16]\n",
    "histories_v3, models_v3 = test_autoencoder(create_model_v3, X, N_BOTTLENECK, 'model_v3', n_epochs=400, lr_start=0.002, lr_patience=20)"
   ]
  },
  {
   "cell_type": "code",
   "execution_count": 28,
   "id": "62af9d02-6a6b-4dd9-b214-838b267e539b",
   "metadata": {},
   "outputs": [
    {
     "data": {
      "image/png": "[encoded data removed]",
      "text/plain": [
       "<Figure size 864x576 with 1 Axes>"
      ]
     },
     "metadata": {
      "needs_background": "light"
     },
     "output_type": "display_data"
    },
    {
     "name": "stdout",
     "output_type": "stream",
     "text": [
      "n_bottleneck= 2: mse=0.032969\n",
      "n_bottleneck= 4: mse=0.011496\n",
      "n_bottleneck= 8: mse=0.006361\n",
      "n_bottleneck=16: mse=0.003773\n"
     ]
    }
   ],
   "source": [
    "plot_histories(histories_v3, \"Autoencoder v3\", ymax=0.8)"
   ]
  },
  {
   "cell_type": "code",
   "execution_count": null,
   "id": "68f28e07-18d2-46b4-9905-906647b15540",
   "metadata": {},
   "outputs": [],
   "source": []
  }
 ],
 "metadata": {
  "kernelspec": {
   "display_name": "Python 3 (ipykernel)",
   "language": "python",
   "name": "python3"
  },
  "language_info": {
   "codemirror_mode": {
    "name": "ipython",
    "version": 3
   },
   "file_extension": ".py",
   "mimetype": "text/x-python",
   "name": "python",
   "nbconvert_exporter": "python",
   "pygments_lexer": "ipython3",
   "version": "3.8.12"
  }
 },
 "nbformat": 4,
 "nbformat_minor": 5
}
